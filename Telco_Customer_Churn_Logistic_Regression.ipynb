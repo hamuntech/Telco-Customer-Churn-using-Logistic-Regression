{
  "nbformat": 4,
  "nbformat_minor": 0,
  "metadata": {
    "colab": {
      "name": "Telco Customer Churn - Logistic Regression.ipynb",
      "provenance": [],
      "collapsed_sections": [],
      "authorship_tag": "ABX9TyOmd17BxO53h8+J5v6gI+xC",
      "include_colab_link": true
    },
    "kernelspec": {
      "name": "python3",
      "display_name": "Python 3"
    },
    "language_info": {
      "name": "python"
    }
  },
  "cells": [
    {
      "cell_type": "markdown",
      "metadata": {
        "id": "view-in-github",
        "colab_type": "text"
      },
      "source": [
        "<a href=\"https://colab.research.google.com/github/hamuntech/Telco-Customer-Churn-using-Logistic-Regression/blob/main/Telco_Customer_Churn_Logistic_Regression.ipynb\" target=\"_parent\"><img src=\"https://colab.research.google.com/assets/colab-badge.svg\" alt=\"Open In Colab\"/></a>"
      ]
    },
    {
      "cell_type": "markdown",
      "metadata": {
        "id": "PF2cgLlkCuIL"
      },
      "source": [
        "Data Source: https://www.kaggle.com/blastchar/telco-customer-churn"
      ]
    },
    {
      "cell_type": "code",
      "metadata": {
        "id": "-b9etWsGCvyd"
      },
      "source": [
        "import pandas as pd\n",
        "import numpy as np\n",
        "\n",
        "import seaborn as sns\n",
        "from matplotlib import pyplot as plt\n",
        "%matplotlib inline"
      ],
      "execution_count": null,
      "outputs": []
    },
    {
      "cell_type": "code",
      "metadata": {
        "id": "FcEgl5vuDDQw"
      },
      "source": [
        "df = pd.read_csv('WA_Fn-UseC_-Telco-Customer-Churn.csv')"
      ],
      "execution_count": null,
      "outputs": []
    },
    {
      "cell_type": "code",
      "metadata": {
        "colab": {
          "base_uri": "https://localhost:8080/"
        },
        "id": "5DQwRCXapWou",
        "outputId": "28918384-e54b-4976-af7b-c65c6b093663"
      },
      "source": [
        "len(df)"
      ],
      "execution_count": null,
      "outputs": [
        {
          "output_type": "execute_result",
          "data": {
            "text/plain": [
              "7043"
            ]
          },
          "metadata": {
            "tags": []
          },
          "execution_count": 3
        }
      ]
    },
    {
      "cell_type": "code",
      "metadata": {
        "colab": {
          "base_uri": "https://localhost:8080/",
          "height": 292
        },
        "id": "YL3gksMdpa4t",
        "outputId": "612ee1a0-8e5a-4ef1-feca-bf316b9d94cf"
      },
      "source": [
        "df.head()"
      ],
      "execution_count": null,
      "outputs": [
        {
          "output_type": "execute_result",
          "data": {
            "text/html": [
              "<div>\n",
              "<style scoped>\n",
              "    .dataframe tbody tr th:only-of-type {\n",
              "        vertical-align: middle;\n",
              "    }\n",
              "\n",
              "    .dataframe tbody tr th {\n",
              "        vertical-align: top;\n",
              "    }\n",
              "\n",
              "    .dataframe thead th {\n",
              "        text-align: right;\n",
              "    }\n",
              "</style>\n",
              "<table border=\"1\" class=\"dataframe\">\n",
              "  <thead>\n",
              "    <tr style=\"text-align: right;\">\n",
              "      <th></th>\n",
              "      <th>customerID</th>\n",
              "      <th>gender</th>\n",
              "      <th>SeniorCitizen</th>\n",
              "      <th>Partner</th>\n",
              "      <th>Dependents</th>\n",
              "      <th>tenure</th>\n",
              "      <th>PhoneService</th>\n",
              "      <th>MultipleLines</th>\n",
              "      <th>InternetService</th>\n",
              "      <th>OnlineSecurity</th>\n",
              "      <th>OnlineBackup</th>\n",
              "      <th>DeviceProtection</th>\n",
              "      <th>TechSupport</th>\n",
              "      <th>StreamingTV</th>\n",
              "      <th>StreamingMovies</th>\n",
              "      <th>Contract</th>\n",
              "      <th>PaperlessBilling</th>\n",
              "      <th>PaymentMethod</th>\n",
              "      <th>MonthlyCharges</th>\n",
              "      <th>TotalCharges</th>\n",
              "      <th>Churn</th>\n",
              "    </tr>\n",
              "  </thead>\n",
              "  <tbody>\n",
              "    <tr>\n",
              "      <th>0</th>\n",
              "      <td>7590-VHVEG</td>\n",
              "      <td>Female</td>\n",
              "      <td>0</td>\n",
              "      <td>Yes</td>\n",
              "      <td>No</td>\n",
              "      <td>1</td>\n",
              "      <td>No</td>\n",
              "      <td>No phone service</td>\n",
              "      <td>DSL</td>\n",
              "      <td>No</td>\n",
              "      <td>Yes</td>\n",
              "      <td>No</td>\n",
              "      <td>No</td>\n",
              "      <td>No</td>\n",
              "      <td>No</td>\n",
              "      <td>Month-to-month</td>\n",
              "      <td>Yes</td>\n",
              "      <td>Electronic check</td>\n",
              "      <td>29.85</td>\n",
              "      <td>29.85</td>\n",
              "      <td>No</td>\n",
              "    </tr>\n",
              "    <tr>\n",
              "      <th>1</th>\n",
              "      <td>5575-GNVDE</td>\n",
              "      <td>Male</td>\n",
              "      <td>0</td>\n",
              "      <td>No</td>\n",
              "      <td>No</td>\n",
              "      <td>34</td>\n",
              "      <td>Yes</td>\n",
              "      <td>No</td>\n",
              "      <td>DSL</td>\n",
              "      <td>Yes</td>\n",
              "      <td>No</td>\n",
              "      <td>Yes</td>\n",
              "      <td>No</td>\n",
              "      <td>No</td>\n",
              "      <td>No</td>\n",
              "      <td>One year</td>\n",
              "      <td>No</td>\n",
              "      <td>Mailed check</td>\n",
              "      <td>56.95</td>\n",
              "      <td>1889.5</td>\n",
              "      <td>No</td>\n",
              "    </tr>\n",
              "    <tr>\n",
              "      <th>2</th>\n",
              "      <td>3668-QPYBK</td>\n",
              "      <td>Male</td>\n",
              "      <td>0</td>\n",
              "      <td>No</td>\n",
              "      <td>No</td>\n",
              "      <td>2</td>\n",
              "      <td>Yes</td>\n",
              "      <td>No</td>\n",
              "      <td>DSL</td>\n",
              "      <td>Yes</td>\n",
              "      <td>Yes</td>\n",
              "      <td>No</td>\n",
              "      <td>No</td>\n",
              "      <td>No</td>\n",
              "      <td>No</td>\n",
              "      <td>Month-to-month</td>\n",
              "      <td>Yes</td>\n",
              "      <td>Mailed check</td>\n",
              "      <td>53.85</td>\n",
              "      <td>108.15</td>\n",
              "      <td>Yes</td>\n",
              "    </tr>\n",
              "    <tr>\n",
              "      <th>3</th>\n",
              "      <td>7795-CFOCW</td>\n",
              "      <td>Male</td>\n",
              "      <td>0</td>\n",
              "      <td>No</td>\n",
              "      <td>No</td>\n",
              "      <td>45</td>\n",
              "      <td>No</td>\n",
              "      <td>No phone service</td>\n",
              "      <td>DSL</td>\n",
              "      <td>Yes</td>\n",
              "      <td>No</td>\n",
              "      <td>Yes</td>\n",
              "      <td>Yes</td>\n",
              "      <td>No</td>\n",
              "      <td>No</td>\n",
              "      <td>One year</td>\n",
              "      <td>No</td>\n",
              "      <td>Bank transfer (automatic)</td>\n",
              "      <td>42.30</td>\n",
              "      <td>1840.75</td>\n",
              "      <td>No</td>\n",
              "    </tr>\n",
              "    <tr>\n",
              "      <th>4</th>\n",
              "      <td>9237-HQITU</td>\n",
              "      <td>Female</td>\n",
              "      <td>0</td>\n",
              "      <td>No</td>\n",
              "      <td>No</td>\n",
              "      <td>2</td>\n",
              "      <td>Yes</td>\n",
              "      <td>No</td>\n",
              "      <td>Fiber optic</td>\n",
              "      <td>No</td>\n",
              "      <td>No</td>\n",
              "      <td>No</td>\n",
              "      <td>No</td>\n",
              "      <td>No</td>\n",
              "      <td>No</td>\n",
              "      <td>Month-to-month</td>\n",
              "      <td>Yes</td>\n",
              "      <td>Electronic check</td>\n",
              "      <td>70.70</td>\n",
              "      <td>151.65</td>\n",
              "      <td>Yes</td>\n",
              "    </tr>\n",
              "  </tbody>\n",
              "</table>\n",
              "</div>"
            ],
            "text/plain": [
              "   customerID  gender  SeniorCitizen  ... MonthlyCharges TotalCharges  Churn\n",
              "0  7590-VHVEG  Female              0  ...          29.85        29.85     No\n",
              "1  5575-GNVDE    Male              0  ...          56.95       1889.5     No\n",
              "2  3668-QPYBK    Male              0  ...          53.85       108.15    Yes\n",
              "3  7795-CFOCW    Male              0  ...          42.30      1840.75     No\n",
              "4  9237-HQITU  Female              0  ...          70.70       151.65    Yes\n",
              "\n",
              "[5 rows x 21 columns]"
            ]
          },
          "metadata": {
            "tags": []
          },
          "execution_count": 4
        }
      ]
    },
    {
      "cell_type": "code",
      "metadata": {
        "colab": {
          "base_uri": "https://localhost:8080/",
          "height": 700
        },
        "id": "oKYN0PIypfDX",
        "outputId": "f46e0f5f-486d-4a5f-f799-9fd5f4b3c7ed"
      },
      "source": [
        "df.head().T #To see all columns on the single screen"
      ],
      "execution_count": null,
      "outputs": [
        {
          "output_type": "execute_result",
          "data": {
            "text/html": [
              "<div>\n",
              "<style scoped>\n",
              "    .dataframe tbody tr th:only-of-type {\n",
              "        vertical-align: middle;\n",
              "    }\n",
              "\n",
              "    .dataframe tbody tr th {\n",
              "        vertical-align: top;\n",
              "    }\n",
              "\n",
              "    .dataframe thead th {\n",
              "        text-align: right;\n",
              "    }\n",
              "</style>\n",
              "<table border=\"1\" class=\"dataframe\">\n",
              "  <thead>\n",
              "    <tr style=\"text-align: right;\">\n",
              "      <th></th>\n",
              "      <th>0</th>\n",
              "      <th>1</th>\n",
              "      <th>2</th>\n",
              "      <th>3</th>\n",
              "      <th>4</th>\n",
              "    </tr>\n",
              "  </thead>\n",
              "  <tbody>\n",
              "    <tr>\n",
              "      <th>customerID</th>\n",
              "      <td>7590-VHVEG</td>\n",
              "      <td>5575-GNVDE</td>\n",
              "      <td>3668-QPYBK</td>\n",
              "      <td>7795-CFOCW</td>\n",
              "      <td>9237-HQITU</td>\n",
              "    </tr>\n",
              "    <tr>\n",
              "      <th>gender</th>\n",
              "      <td>Female</td>\n",
              "      <td>Male</td>\n",
              "      <td>Male</td>\n",
              "      <td>Male</td>\n",
              "      <td>Female</td>\n",
              "    </tr>\n",
              "    <tr>\n",
              "      <th>SeniorCitizen</th>\n",
              "      <td>0</td>\n",
              "      <td>0</td>\n",
              "      <td>0</td>\n",
              "      <td>0</td>\n",
              "      <td>0</td>\n",
              "    </tr>\n",
              "    <tr>\n",
              "      <th>Partner</th>\n",
              "      <td>Yes</td>\n",
              "      <td>No</td>\n",
              "      <td>No</td>\n",
              "      <td>No</td>\n",
              "      <td>No</td>\n",
              "    </tr>\n",
              "    <tr>\n",
              "      <th>Dependents</th>\n",
              "      <td>No</td>\n",
              "      <td>No</td>\n",
              "      <td>No</td>\n",
              "      <td>No</td>\n",
              "      <td>No</td>\n",
              "    </tr>\n",
              "    <tr>\n",
              "      <th>tenure</th>\n",
              "      <td>1</td>\n",
              "      <td>34</td>\n",
              "      <td>2</td>\n",
              "      <td>45</td>\n",
              "      <td>2</td>\n",
              "    </tr>\n",
              "    <tr>\n",
              "      <th>PhoneService</th>\n",
              "      <td>No</td>\n",
              "      <td>Yes</td>\n",
              "      <td>Yes</td>\n",
              "      <td>No</td>\n",
              "      <td>Yes</td>\n",
              "    </tr>\n",
              "    <tr>\n",
              "      <th>MultipleLines</th>\n",
              "      <td>No phone service</td>\n",
              "      <td>No</td>\n",
              "      <td>No</td>\n",
              "      <td>No phone service</td>\n",
              "      <td>No</td>\n",
              "    </tr>\n",
              "    <tr>\n",
              "      <th>InternetService</th>\n",
              "      <td>DSL</td>\n",
              "      <td>DSL</td>\n",
              "      <td>DSL</td>\n",
              "      <td>DSL</td>\n",
              "      <td>Fiber optic</td>\n",
              "    </tr>\n",
              "    <tr>\n",
              "      <th>OnlineSecurity</th>\n",
              "      <td>No</td>\n",
              "      <td>Yes</td>\n",
              "      <td>Yes</td>\n",
              "      <td>Yes</td>\n",
              "      <td>No</td>\n",
              "    </tr>\n",
              "    <tr>\n",
              "      <th>OnlineBackup</th>\n",
              "      <td>Yes</td>\n",
              "      <td>No</td>\n",
              "      <td>Yes</td>\n",
              "      <td>No</td>\n",
              "      <td>No</td>\n",
              "    </tr>\n",
              "    <tr>\n",
              "      <th>DeviceProtection</th>\n",
              "      <td>No</td>\n",
              "      <td>Yes</td>\n",
              "      <td>No</td>\n",
              "      <td>Yes</td>\n",
              "      <td>No</td>\n",
              "    </tr>\n",
              "    <tr>\n",
              "      <th>TechSupport</th>\n",
              "      <td>No</td>\n",
              "      <td>No</td>\n",
              "      <td>No</td>\n",
              "      <td>Yes</td>\n",
              "      <td>No</td>\n",
              "    </tr>\n",
              "    <tr>\n",
              "      <th>StreamingTV</th>\n",
              "      <td>No</td>\n",
              "      <td>No</td>\n",
              "      <td>No</td>\n",
              "      <td>No</td>\n",
              "      <td>No</td>\n",
              "    </tr>\n",
              "    <tr>\n",
              "      <th>StreamingMovies</th>\n",
              "      <td>No</td>\n",
              "      <td>No</td>\n",
              "      <td>No</td>\n",
              "      <td>No</td>\n",
              "      <td>No</td>\n",
              "    </tr>\n",
              "    <tr>\n",
              "      <th>Contract</th>\n",
              "      <td>Month-to-month</td>\n",
              "      <td>One year</td>\n",
              "      <td>Month-to-month</td>\n",
              "      <td>One year</td>\n",
              "      <td>Month-to-month</td>\n",
              "    </tr>\n",
              "    <tr>\n",
              "      <th>PaperlessBilling</th>\n",
              "      <td>Yes</td>\n",
              "      <td>No</td>\n",
              "      <td>Yes</td>\n",
              "      <td>No</td>\n",
              "      <td>Yes</td>\n",
              "    </tr>\n",
              "    <tr>\n",
              "      <th>PaymentMethod</th>\n",
              "      <td>Electronic check</td>\n",
              "      <td>Mailed check</td>\n",
              "      <td>Mailed check</td>\n",
              "      <td>Bank transfer (automatic)</td>\n",
              "      <td>Electronic check</td>\n",
              "    </tr>\n",
              "    <tr>\n",
              "      <th>MonthlyCharges</th>\n",
              "      <td>29.85</td>\n",
              "      <td>56.95</td>\n",
              "      <td>53.85</td>\n",
              "      <td>42.3</td>\n",
              "      <td>70.7</td>\n",
              "    </tr>\n",
              "    <tr>\n",
              "      <th>TotalCharges</th>\n",
              "      <td>29.85</td>\n",
              "      <td>1889.5</td>\n",
              "      <td>108.15</td>\n",
              "      <td>1840.75</td>\n",
              "      <td>151.65</td>\n",
              "    </tr>\n",
              "    <tr>\n",
              "      <th>Churn</th>\n",
              "      <td>No</td>\n",
              "      <td>No</td>\n",
              "      <td>Yes</td>\n",
              "      <td>No</td>\n",
              "      <td>Yes</td>\n",
              "    </tr>\n",
              "  </tbody>\n",
              "</table>\n",
              "</div>"
            ],
            "text/plain": [
              "                                 0  ...                 4\n",
              "customerID              7590-VHVEG  ...        9237-HQITU\n",
              "gender                      Female  ...            Female\n",
              "SeniorCitizen                    0  ...                 0\n",
              "Partner                        Yes  ...                No\n",
              "Dependents                      No  ...                No\n",
              "tenure                           1  ...                 2\n",
              "PhoneService                    No  ...               Yes\n",
              "MultipleLines     No phone service  ...                No\n",
              "InternetService                DSL  ...       Fiber optic\n",
              "OnlineSecurity                  No  ...                No\n",
              "OnlineBackup                   Yes  ...                No\n",
              "DeviceProtection                No  ...                No\n",
              "TechSupport                     No  ...                No\n",
              "StreamingTV                     No  ...                No\n",
              "StreamingMovies                 No  ...                No\n",
              "Contract            Month-to-month  ...    Month-to-month\n",
              "PaperlessBilling               Yes  ...               Yes\n",
              "PaymentMethod     Electronic check  ...  Electronic check\n",
              "MonthlyCharges               29.85  ...              70.7\n",
              "TotalCharges                 29.85  ...            151.65\n",
              "Churn                           No  ...               Yes\n",
              "\n",
              "[21 rows x 5 columns]"
            ]
          },
          "metadata": {
            "tags": []
          },
          "execution_count": 5
        }
      ]
    },
    {
      "cell_type": "code",
      "metadata": {
        "colab": {
          "base_uri": "https://localhost:8080/"
        },
        "id": "0sSIsyPS8N6e",
        "outputId": "33bec58b-3651-4a7b-ad0a-bdaa22efed7c"
      },
      "source": [
        "df.dtypes #confirm that datatypes are encoded correctly by pandas. Note that TotalCharges column is incorrectly encoded as non-numeric"
      ],
      "execution_count": null,
      "outputs": [
        {
          "output_type": "execute_result",
          "data": {
            "text/plain": [
              "customerID           object\n",
              "gender               object\n",
              "SeniorCitizen         int64\n",
              "Partner              object\n",
              "Dependents           object\n",
              "tenure                int64\n",
              "PhoneService         object\n",
              "MultipleLines        object\n",
              "InternetService      object\n",
              "OnlineSecurity       object\n",
              "OnlineBackup         object\n",
              "DeviceProtection     object\n",
              "TechSupport          object\n",
              "StreamingTV          object\n",
              "StreamingMovies      object\n",
              "Contract             object\n",
              "PaperlessBilling     object\n",
              "PaymentMethod        object\n",
              "MonthlyCharges      float64\n",
              "TotalCharges         object\n",
              "Churn                object\n",
              "dtype: object"
            ]
          },
          "metadata": {
            "tags": []
          },
          "execution_count": 6
        }
      ]
    },
    {
      "cell_type": "code",
      "metadata": {
        "id": "sQ2qD3EZ8RFk"
      },
      "source": [
        "#Lets change TotalCharges to numeric\n",
        "df['TotalCharges'] = pd.to_numeric(df['TotalCharges'], errors='coerce')\n",
        "df['TotalCharges'] = df['TotalCharges'].fillna(0)"
      ],
      "execution_count": null,
      "outputs": []
    },
    {
      "cell_type": "code",
      "metadata": {
        "id": "uUsZrUhM_uPr"
      },
      "source": [
        "#Lets do some house keeping\n",
        "df.columns = df.columns.str.lower().str.replace(' ', '_') #Column names to lowercase and replace spaces with underscore\n",
        "\n",
        "string_columns = list(df.dtypes[df.dtypes == 'object'].index) #df.dtypes produces the output as depicted above. Note that column names are indices\n",
        "\n",
        "for col in string_columns:\n",
        "    df[col] = df[col].str.lower().str.replace(' ', '_') #Column content to lowercase and replace spaces with underscore"
      ],
      "execution_count": null,
      "outputs": []
    },
    {
      "cell_type": "code",
      "metadata": {
        "colab": {
          "base_uri": "https://localhost:8080/"
        },
        "id": "7Wu0VkIO0xl8",
        "outputId": "d3d73122-7857-447f-aba3-cb428329dd57"
      },
      "source": [
        "df.churn.isnull().sum() #Make sure there are no null values in the labels"
      ],
      "execution_count": null,
      "outputs": [
        {
          "output_type": "execute_result",
          "data": {
            "text/plain": [
              "0"
            ]
          },
          "metadata": {
            "tags": []
          },
          "execution_count": 9
        }
      ]
    },
    {
      "cell_type": "code",
      "metadata": {
        "id": "oH56J6nS2dRz"
      },
      "source": [
        "df.churn = (df.churn == 'yes').astype(int) #Encode the lables as 0 and 1"
      ],
      "execution_count": null,
      "outputs": []
    },
    {
      "cell_type": "code",
      "metadata": {
        "colab": {
          "base_uri": "https://localhost:8080/",
          "height": 700
        },
        "id": "nut9j2os8q-R",
        "outputId": "77888b35-7b6a-41be-e127-6b17094a3cf9"
      },
      "source": [
        "#Lets see all the columns in a single page\n",
        "df.head().T"
      ],
      "execution_count": null,
      "outputs": [
        {
          "output_type": "execute_result",
          "data": {
            "text/html": [
              "<div>\n",
              "<style scoped>\n",
              "    .dataframe tbody tr th:only-of-type {\n",
              "        vertical-align: middle;\n",
              "    }\n",
              "\n",
              "    .dataframe tbody tr th {\n",
              "        vertical-align: top;\n",
              "    }\n",
              "\n",
              "    .dataframe thead th {\n",
              "        text-align: right;\n",
              "    }\n",
              "</style>\n",
              "<table border=\"1\" class=\"dataframe\">\n",
              "  <thead>\n",
              "    <tr style=\"text-align: right;\">\n",
              "      <th></th>\n",
              "      <th>0</th>\n",
              "      <th>1</th>\n",
              "      <th>2</th>\n",
              "      <th>3</th>\n",
              "      <th>4</th>\n",
              "    </tr>\n",
              "  </thead>\n",
              "  <tbody>\n",
              "    <tr>\n",
              "      <th>customerid</th>\n",
              "      <td>7590-vhveg</td>\n",
              "      <td>5575-gnvde</td>\n",
              "      <td>3668-qpybk</td>\n",
              "      <td>7795-cfocw</td>\n",
              "      <td>9237-hqitu</td>\n",
              "    </tr>\n",
              "    <tr>\n",
              "      <th>gender</th>\n",
              "      <td>female</td>\n",
              "      <td>male</td>\n",
              "      <td>male</td>\n",
              "      <td>male</td>\n",
              "      <td>female</td>\n",
              "    </tr>\n",
              "    <tr>\n",
              "      <th>seniorcitizen</th>\n",
              "      <td>0</td>\n",
              "      <td>0</td>\n",
              "      <td>0</td>\n",
              "      <td>0</td>\n",
              "      <td>0</td>\n",
              "    </tr>\n",
              "    <tr>\n",
              "      <th>partner</th>\n",
              "      <td>yes</td>\n",
              "      <td>no</td>\n",
              "      <td>no</td>\n",
              "      <td>no</td>\n",
              "      <td>no</td>\n",
              "    </tr>\n",
              "    <tr>\n",
              "      <th>dependents</th>\n",
              "      <td>no</td>\n",
              "      <td>no</td>\n",
              "      <td>no</td>\n",
              "      <td>no</td>\n",
              "      <td>no</td>\n",
              "    </tr>\n",
              "    <tr>\n",
              "      <th>tenure</th>\n",
              "      <td>1</td>\n",
              "      <td>34</td>\n",
              "      <td>2</td>\n",
              "      <td>45</td>\n",
              "      <td>2</td>\n",
              "    </tr>\n",
              "    <tr>\n",
              "      <th>phoneservice</th>\n",
              "      <td>no</td>\n",
              "      <td>yes</td>\n",
              "      <td>yes</td>\n",
              "      <td>no</td>\n",
              "      <td>yes</td>\n",
              "    </tr>\n",
              "    <tr>\n",
              "      <th>multiplelines</th>\n",
              "      <td>no_phone_service</td>\n",
              "      <td>no</td>\n",
              "      <td>no</td>\n",
              "      <td>no_phone_service</td>\n",
              "      <td>no</td>\n",
              "    </tr>\n",
              "    <tr>\n",
              "      <th>internetservice</th>\n",
              "      <td>dsl</td>\n",
              "      <td>dsl</td>\n",
              "      <td>dsl</td>\n",
              "      <td>dsl</td>\n",
              "      <td>fiber_optic</td>\n",
              "    </tr>\n",
              "    <tr>\n",
              "      <th>onlinesecurity</th>\n",
              "      <td>no</td>\n",
              "      <td>yes</td>\n",
              "      <td>yes</td>\n",
              "      <td>yes</td>\n",
              "      <td>no</td>\n",
              "    </tr>\n",
              "    <tr>\n",
              "      <th>onlinebackup</th>\n",
              "      <td>yes</td>\n",
              "      <td>no</td>\n",
              "      <td>yes</td>\n",
              "      <td>no</td>\n",
              "      <td>no</td>\n",
              "    </tr>\n",
              "    <tr>\n",
              "      <th>deviceprotection</th>\n",
              "      <td>no</td>\n",
              "      <td>yes</td>\n",
              "      <td>no</td>\n",
              "      <td>yes</td>\n",
              "      <td>no</td>\n",
              "    </tr>\n",
              "    <tr>\n",
              "      <th>techsupport</th>\n",
              "      <td>no</td>\n",
              "      <td>no</td>\n",
              "      <td>no</td>\n",
              "      <td>yes</td>\n",
              "      <td>no</td>\n",
              "    </tr>\n",
              "    <tr>\n",
              "      <th>streamingtv</th>\n",
              "      <td>no</td>\n",
              "      <td>no</td>\n",
              "      <td>no</td>\n",
              "      <td>no</td>\n",
              "      <td>no</td>\n",
              "    </tr>\n",
              "    <tr>\n",
              "      <th>streamingmovies</th>\n",
              "      <td>no</td>\n",
              "      <td>no</td>\n",
              "      <td>no</td>\n",
              "      <td>no</td>\n",
              "      <td>no</td>\n",
              "    </tr>\n",
              "    <tr>\n",
              "      <th>contract</th>\n",
              "      <td>month-to-month</td>\n",
              "      <td>one_year</td>\n",
              "      <td>month-to-month</td>\n",
              "      <td>one_year</td>\n",
              "      <td>month-to-month</td>\n",
              "    </tr>\n",
              "    <tr>\n",
              "      <th>paperlessbilling</th>\n",
              "      <td>yes</td>\n",
              "      <td>no</td>\n",
              "      <td>yes</td>\n",
              "      <td>no</td>\n",
              "      <td>yes</td>\n",
              "    </tr>\n",
              "    <tr>\n",
              "      <th>paymentmethod</th>\n",
              "      <td>electronic_check</td>\n",
              "      <td>mailed_check</td>\n",
              "      <td>mailed_check</td>\n",
              "      <td>bank_transfer_(automatic)</td>\n",
              "      <td>electronic_check</td>\n",
              "    </tr>\n",
              "    <tr>\n",
              "      <th>monthlycharges</th>\n",
              "      <td>29.85</td>\n",
              "      <td>56.95</td>\n",
              "      <td>53.85</td>\n",
              "      <td>42.3</td>\n",
              "      <td>70.7</td>\n",
              "    </tr>\n",
              "    <tr>\n",
              "      <th>totalcharges</th>\n",
              "      <td>29.85</td>\n",
              "      <td>1889.5</td>\n",
              "      <td>108.15</td>\n",
              "      <td>1840.75</td>\n",
              "      <td>151.65</td>\n",
              "    </tr>\n",
              "    <tr>\n",
              "      <th>churn</th>\n",
              "      <td>0</td>\n",
              "      <td>0</td>\n",
              "      <td>1</td>\n",
              "      <td>0</td>\n",
              "      <td>1</td>\n",
              "    </tr>\n",
              "  </tbody>\n",
              "</table>\n",
              "</div>"
            ],
            "text/plain": [
              "                                 0  ...                 4\n",
              "customerid              7590-vhveg  ...        9237-hqitu\n",
              "gender                      female  ...            female\n",
              "seniorcitizen                    0  ...                 0\n",
              "partner                        yes  ...                no\n",
              "dependents                      no  ...                no\n",
              "tenure                           1  ...                 2\n",
              "phoneservice                    no  ...               yes\n",
              "multiplelines     no_phone_service  ...                no\n",
              "internetservice                dsl  ...       fiber_optic\n",
              "onlinesecurity                  no  ...                no\n",
              "onlinebackup                   yes  ...                no\n",
              "deviceprotection                no  ...                no\n",
              "techsupport                     no  ...                no\n",
              "streamingtv                     no  ...                no\n",
              "streamingmovies                 no  ...                no\n",
              "contract            month-to-month  ...    month-to-month\n",
              "paperlessbilling               yes  ...               yes\n",
              "paymentmethod     electronic_check  ...  electronic_check\n",
              "monthlycharges               29.85  ...              70.7\n",
              "totalcharges                 29.85  ...            151.65\n",
              "churn                            0  ...                 1\n",
              "\n",
              "[21 rows x 5 columns]"
            ]
          },
          "metadata": {
            "tags": []
          },
          "execution_count": 11
        }
      ]
    },
    {
      "cell_type": "code",
      "metadata": {
        "id": "aNydsr769NCz"
      },
      "source": [
        "#Split the dataset into train, validation and test sets\n",
        "from sklearn.model_selection import train_test_split"
      ],
      "execution_count": null,
      "outputs": []
    },
    {
      "cell_type": "code",
      "metadata": {
        "id": "r1TvHgRI9iN5"
      },
      "source": [
        "df_train_full, df_test = train_test_split(df, test_size=0.2, random_state=1)"
      ],
      "execution_count": null,
      "outputs": []
    },
    {
      "cell_type": "code",
      "metadata": {
        "id": "w6wEziPC-QjV"
      },
      "source": [
        "df_train, df_val = train_test_split(df_train_full, test_size=0.33, random_state=11)"
      ],
      "execution_count": null,
      "outputs": []
    },
    {
      "cell_type": "code",
      "metadata": {
        "id": "mF-TUmsmB-Dn"
      },
      "source": [
        "y_train = df_train.churn.values\n",
        "y_val = df_val.churn.values"
      ],
      "execution_count": null,
      "outputs": []
    },
    {
      "cell_type": "code",
      "metadata": {
        "id": "BdDieA9hEc7M"
      },
      "source": [
        "del df_train['churn']\n",
        "del df_val['churn']"
      ],
      "execution_count": null,
      "outputs": []
    },
    {
      "cell_type": "code",
      "metadata": {
        "colab": {
          "base_uri": "https://localhost:8080/"
        },
        "id": "09-g3aNDXrPo",
        "outputId": "559b7069-e2cf-4277-c878-fed7ec9e6c55"
      },
      "source": [
        "#Check the distribution of examples of both types\n",
        "df_train_full.churn.value_counts()"
      ],
      "execution_count": null,
      "outputs": [
        {
          "output_type": "execute_result",
          "data": {
            "text/plain": [
              "0    4113\n",
              "1    1521\n",
              "Name: churn, dtype: int64"
            ]
          },
          "metadata": {
            "tags": []
          },
          "execution_count": 17
        }
      ]
    },
    {
      "cell_type": "code",
      "metadata": {
        "colab": {
          "base_uri": "https://localhost:8080/"
        },
        "id": "mfb8vrIBuJeo",
        "outputId": "f6eafc18-8fcd-4ef2-df37-2e676d58a12e"
      },
      "source": [
        "#Churn rate. Note that only 1's will be added but division will be carried out with the total number of examples\n",
        "global_mean = round(df_train_full.churn.mean(), 3)\n",
        "global_mean"
      ],
      "execution_count": null,
      "outputs": [
        {
          "output_type": "execute_result",
          "data": {
            "text/plain": [
              "0.27"
            ]
          },
          "metadata": {
            "tags": []
          },
          "execution_count": 18
        }
      ]
    },
    {
      "cell_type": "code",
      "metadata": {
        "id": "Nqck506kwmmH"
      },
      "source": [
        "#Different type of variables in the dataset take different treatment, thus lets separate these\n",
        "categorical = ['gender', 'seniorcitizen', 'partner', 'dependents',\n",
        "               'phoneservice', 'multiplelines', 'internetservice',\n",
        "               'onlinesecurity', 'onlinebackup', 'deviceprotection',\n",
        "               'techsupport', 'streamingtv', 'streamingmovies',\n",
        "               'contract', 'paperlessbilling', 'paymentmethod']\n",
        "numerical = ['tenure', 'monthlycharges', 'totalcharges']"
      ],
      "execution_count": null,
      "outputs": []
    },
    {
      "cell_type": "code",
      "metadata": {
        "colab": {
          "base_uri": "https://localhost:8080/"
        },
        "id": "FxdCiIltwog5",
        "outputId": "f5db2896-a81e-477b-9608-99cf58166914"
      },
      "source": [
        "#Number of unique values in categorical features\n",
        "df_train_full[categorical].nunique()"
      ],
      "execution_count": null,
      "outputs": [
        {
          "output_type": "execute_result",
          "data": {
            "text/plain": [
              "gender              2\n",
              "seniorcitizen       2\n",
              "partner             2\n",
              "dependents          2\n",
              "phoneservice        2\n",
              "multiplelines       3\n",
              "internetservice     3\n",
              "onlinesecurity      3\n",
              "onlinebackup        3\n",
              "deviceprotection    3\n",
              "techsupport         3\n",
              "streamingtv         3\n",
              "streamingmovies     3\n",
              "contract            3\n",
              "paperlessbilling    2\n",
              "paymentmethod       4\n",
              "dtype: int64"
            ]
          },
          "metadata": {
            "tags": []
          },
          "execution_count": 20
        }
      ]
    },
    {
      "cell_type": "markdown",
      "metadata": {
        "id": "Mido7sVo-jGl"
      },
      "source": [
        "Feature Relevance in relation to the labels"
      ]
    },
    {
      "cell_type": "code",
      "metadata": {
        "colab": {
          "base_uri": "https://localhost:8080/"
        },
        "id": "CS4iBFZW7URa",
        "outputId": "3b97f044-b41a-4142-fcfb-9622cc91a932"
      },
      "source": [
        "#Female customers churn rate\n",
        "female_mean = df_train_full[df_train_full.gender == 'female'].churn.mean()\n",
        "print('gender == female:', round(female_mean, 3))"
      ],
      "execution_count": null,
      "outputs": [
        {
          "output_type": "stream",
          "text": [
            "gender == female: 0.277\n"
          ],
          "name": "stdout"
        }
      ]
    },
    {
      "cell_type": "code",
      "metadata": {
        "colab": {
          "base_uri": "https://localhost:8080/"
        },
        "id": "EcFFSGOq7ckm",
        "outputId": "876ce065-8f66-4c4a-c128-d551d72550d1"
      },
      "source": [
        "#Male customers churn rate\n",
        "male_mean = df_train_full[df_train_full.gender == 'male'].churn.mean()\n",
        "print('gender == male:  ', round(male_mean, 3))"
      ],
      "execution_count": null,
      "outputs": [
        {
          "output_type": "stream",
          "text": [
            "gender == male:   0.263\n"
          ],
          "name": "stdout"
        }
      ]
    },
    {
      "cell_type": "code",
      "metadata": {
        "colab": {
          "base_uri": "https://localhost:8080/"
        },
        "id": "3Ab8i0Ue-RSA",
        "outputId": "385745a1-ffce-4be1-c29b-a8c51a569e27"
      },
      "source": [
        "female_mean / global_mean"
      ],
      "execution_count": null,
      "outputs": [
        {
          "output_type": "execute_result",
          "data": {
            "text/plain": [
              "1.0252742012398663"
            ]
          },
          "metadata": {
            "tags": []
          },
          "execution_count": 23
        }
      ]
    },
    {
      "cell_type": "code",
      "metadata": {
        "colab": {
          "base_uri": "https://localhost:8080/"
        },
        "id": "p_k3V2DZ-Sxn",
        "outputId": "232afe55-acfc-41c4-bd68-416c78d674be"
      },
      "source": [
        "male_mean / global_mean"
      ],
      "execution_count": null,
      "outputs": [
        {
          "output_type": "execute_result",
          "data": {
            "text/plain": [
              "0.9748649283533003"
            ]
          },
          "metadata": {
            "tags": []
          },
          "execution_count": 24
        }
      ]
    },
    {
      "cell_type": "code",
      "metadata": {
        "colab": {
          "base_uri": "https://localhost:8080/"
        },
        "id": "XxDG37dcGIZQ",
        "outputId": "0d0d4b46-3154-472a-a089-f2a954ca1279"
      },
      "source": [
        "partner_yes = df_train_full[df_train_full.partner == 'yes'].churn.mean()\n",
        "print('partner == yes:', round(partner_yes, 3))"
      ],
      "execution_count": null,
      "outputs": [
        {
          "output_type": "stream",
          "text": [
            "partner == yes: 0.205\n"
          ],
          "name": "stdout"
        }
      ]
    },
    {
      "cell_type": "code",
      "metadata": {
        "colab": {
          "base_uri": "https://localhost:8080/"
        },
        "id": "zuNckGfYL9NL",
        "outputId": "dc9b6cd0-b3a8-4eec-ffb3-840eac511364"
      },
      "source": [
        "partner_no = df_train_full[df_train_full.partner == 'no'].churn.mean()\n",
        "print('partner == no :', round(partner_no, 3))"
      ],
      "execution_count": null,
      "outputs": [
        {
          "output_type": "stream",
          "text": [
            "partner == no : 0.33\n"
          ],
          "name": "stdout"
        }
      ]
    },
    {
      "cell_type": "code",
      "metadata": {
        "colab": {
          "base_uri": "https://localhost:8080/"
        },
        "id": "Dsn5rvtOUm_Y",
        "outputId": "52e902f7-3cee-459b-d1b1-5ecd3426d350"
      },
      "source": [
        "partner_yes / global_mean"
      ],
      "execution_count": null,
      "outputs": [
        {
          "output_type": "execute_result",
          "data": {
            "text/plain": [
              "0.7593826246675986"
            ]
          },
          "metadata": {
            "tags": []
          },
          "execution_count": 27
        }
      ]
    },
    {
      "cell_type": "code",
      "metadata": {
        "colab": {
          "base_uri": "https://localhost:8080/"
        },
        "id": "QqzGAvD-UpfH",
        "outputId": "8b2a75b0-7cc8-4ab5-fa5d-7e787522f54e"
      },
      "source": [
        "partner_no / global_mean"
      ],
      "execution_count": null,
      "outputs": [
        {
          "output_type": "execute_result",
          "data": {
            "text/plain": [
              "1.22151482997322"
            ]
          },
          "metadata": {
            "tags": []
          },
          "execution_count": 28
        }
      ]
    },
    {
      "cell_type": "code",
      "metadata": {
        "colab": {
          "base_uri": "https://localhost:8080/",
          "height": 142
        },
        "id": "8BPPPD9hb6oa",
        "outputId": "630408ed-48a6-40b0-c259-f65595b68b4a"
      },
      "source": [
        "#Another way to calculate the difference and ratio of means\n",
        "df_group = df_train_full.groupby(by='gender').churn.agg(['mean'])\n",
        "df_group['diff'] = df_group['mean'] - global_mean\n",
        "df_group['risk'] = df_group['mean'] / global_mean\n",
        "df_group"
      ],
      "execution_count": null,
      "outputs": [
        {
          "output_type": "execute_result",
          "data": {
            "text/html": [
              "<div>\n",
              "<style scoped>\n",
              "    .dataframe tbody tr th:only-of-type {\n",
              "        vertical-align: middle;\n",
              "    }\n",
              "\n",
              "    .dataframe tbody tr th {\n",
              "        vertical-align: top;\n",
              "    }\n",
              "\n",
              "    .dataframe thead th {\n",
              "        text-align: right;\n",
              "    }\n",
              "</style>\n",
              "<table border=\"1\" class=\"dataframe\">\n",
              "  <thead>\n",
              "    <tr style=\"text-align: right;\">\n",
              "      <th></th>\n",
              "      <th>mean</th>\n",
              "      <th>diff</th>\n",
              "      <th>risk</th>\n",
              "    </tr>\n",
              "    <tr>\n",
              "      <th>gender</th>\n",
              "      <th></th>\n",
              "      <th></th>\n",
              "      <th></th>\n",
              "    </tr>\n",
              "  </thead>\n",
              "  <tbody>\n",
              "    <tr>\n",
              "      <th>female</th>\n",
              "      <td>0.276824</td>\n",
              "      <td>0.006824</td>\n",
              "      <td>1.025274</td>\n",
              "    </tr>\n",
              "    <tr>\n",
              "      <th>male</th>\n",
              "      <td>0.263214</td>\n",
              "      <td>-0.006786</td>\n",
              "      <td>0.974865</td>\n",
              "    </tr>\n",
              "  </tbody>\n",
              "</table>\n",
              "</div>"
            ],
            "text/plain": [
              "            mean      diff      risk\n",
              "gender                              \n",
              "female  0.276824  0.006824  1.025274\n",
              "male    0.263214 -0.006786  0.974865"
            ]
          },
          "metadata": {
            "tags": []
          },
          "execution_count": 29
        }
      ]
    },
    {
      "cell_type": "code",
      "metadata": {
        "id": "WoBKKuR9dHIE"
      },
      "source": [
        "#Lets apply the above technique to all categorical variables\n",
        "from IPython.display import display #To display dataframe from within the loop"
      ],
      "execution_count": null,
      "outputs": []
    },
    {
      "cell_type": "code",
      "metadata": {
        "colab": {
          "base_uri": "https://localhost:8080/"
        },
        "id": "H7GLAeNrdb51",
        "outputId": "0b7df8a3-f38f-422c-8fe8-f505021d304d"
      },
      "source": [
        "global_mean = df_train_full.churn.mean()\n",
        "global_mean"
      ],
      "execution_count": null,
      "outputs": [
        {
          "output_type": "execute_result",
          "data": {
            "text/plain": [
              "0.26996805111821087"
            ]
          },
          "metadata": {
            "tags": []
          },
          "execution_count": 31
        }
      ]
    },
    {
      "cell_type": "code",
      "metadata": {
        "colab": {
          "base_uri": "https://localhost:8080/",
          "height": 1000
        },
        "id": "70LVh9I7dh1X",
        "outputId": "60dd6566-3e71-4289-af36-693468f2c96d"
      },
      "source": [
        "for col in categorical:\n",
        "    df_group = df_train_full.groupby(by=col).churn.agg(['mean'])\n",
        "    df_group['diff'] = df_group['mean'] - global_mean\n",
        "    df_group['risk'] = df_group['mean'] / global_mean\n",
        "    display(df_group)"
      ],
      "execution_count": null,
      "outputs": [
        {
          "output_type": "display_data",
          "data": {
            "text/html": [
              "<div>\n",
              "<style scoped>\n",
              "    .dataframe tbody tr th:only-of-type {\n",
              "        vertical-align: middle;\n",
              "    }\n",
              "\n",
              "    .dataframe tbody tr th {\n",
              "        vertical-align: top;\n",
              "    }\n",
              "\n",
              "    .dataframe thead th {\n",
              "        text-align: right;\n",
              "    }\n",
              "</style>\n",
              "<table border=\"1\" class=\"dataframe\">\n",
              "  <thead>\n",
              "    <tr style=\"text-align: right;\">\n",
              "      <th></th>\n",
              "      <th>mean</th>\n",
              "      <th>diff</th>\n",
              "      <th>risk</th>\n",
              "    </tr>\n",
              "    <tr>\n",
              "      <th>gender</th>\n",
              "      <th></th>\n",
              "      <th></th>\n",
              "      <th></th>\n",
              "    </tr>\n",
              "  </thead>\n",
              "  <tbody>\n",
              "    <tr>\n",
              "      <th>female</th>\n",
              "      <td>0.276824</td>\n",
              "      <td>0.006856</td>\n",
              "      <td>1.025396</td>\n",
              "    </tr>\n",
              "    <tr>\n",
              "      <th>male</th>\n",
              "      <td>0.263214</td>\n",
              "      <td>-0.006755</td>\n",
              "      <td>0.974980</td>\n",
              "    </tr>\n",
              "  </tbody>\n",
              "</table>\n",
              "</div>"
            ],
            "text/plain": [
              "            mean      diff      risk\n",
              "gender                              \n",
              "female  0.276824  0.006856  1.025396\n",
              "male    0.263214 -0.006755  0.974980"
            ]
          },
          "metadata": {
            "tags": []
          }
        },
        {
          "output_type": "display_data",
          "data": {
            "text/html": [
              "<div>\n",
              "<style scoped>\n",
              "    .dataframe tbody tr th:only-of-type {\n",
              "        vertical-align: middle;\n",
              "    }\n",
              "\n",
              "    .dataframe tbody tr th {\n",
              "        vertical-align: top;\n",
              "    }\n",
              "\n",
              "    .dataframe thead th {\n",
              "        text-align: right;\n",
              "    }\n",
              "</style>\n",
              "<table border=\"1\" class=\"dataframe\">\n",
              "  <thead>\n",
              "    <tr style=\"text-align: right;\">\n",
              "      <th></th>\n",
              "      <th>mean</th>\n",
              "      <th>diff</th>\n",
              "      <th>risk</th>\n",
              "    </tr>\n",
              "    <tr>\n",
              "      <th>seniorcitizen</th>\n",
              "      <th></th>\n",
              "      <th></th>\n",
              "      <th></th>\n",
              "    </tr>\n",
              "  </thead>\n",
              "  <tbody>\n",
              "    <tr>\n",
              "      <th>0</th>\n",
              "      <td>0.242270</td>\n",
              "      <td>-0.027698</td>\n",
              "      <td>0.897403</td>\n",
              "    </tr>\n",
              "    <tr>\n",
              "      <th>1</th>\n",
              "      <td>0.413377</td>\n",
              "      <td>0.143409</td>\n",
              "      <td>1.531208</td>\n",
              "    </tr>\n",
              "  </tbody>\n",
              "</table>\n",
              "</div>"
            ],
            "text/plain": [
              "                   mean      diff      risk\n",
              "seniorcitizen                              \n",
              "0              0.242270 -0.027698  0.897403\n",
              "1              0.413377  0.143409  1.531208"
            ]
          },
          "metadata": {
            "tags": []
          }
        },
        {
          "output_type": "display_data",
          "data": {
            "text/html": [
              "<div>\n",
              "<style scoped>\n",
              "    .dataframe tbody tr th:only-of-type {\n",
              "        vertical-align: middle;\n",
              "    }\n",
              "\n",
              "    .dataframe tbody tr th {\n",
              "        vertical-align: top;\n",
              "    }\n",
              "\n",
              "    .dataframe thead th {\n",
              "        text-align: right;\n",
              "    }\n",
              "</style>\n",
              "<table border=\"1\" class=\"dataframe\">\n",
              "  <thead>\n",
              "    <tr style=\"text-align: right;\">\n",
              "      <th></th>\n",
              "      <th>mean</th>\n",
              "      <th>diff</th>\n",
              "      <th>risk</th>\n",
              "    </tr>\n",
              "    <tr>\n",
              "      <th>partner</th>\n",
              "      <th></th>\n",
              "      <th></th>\n",
              "      <th></th>\n",
              "    </tr>\n",
              "  </thead>\n",
              "  <tbody>\n",
              "    <tr>\n",
              "      <th>no</th>\n",
              "      <td>0.329809</td>\n",
              "      <td>0.059841</td>\n",
              "      <td>1.221659</td>\n",
              "    </tr>\n",
              "    <tr>\n",
              "      <th>yes</th>\n",
              "      <td>0.205033</td>\n",
              "      <td>-0.064935</td>\n",
              "      <td>0.759472</td>\n",
              "    </tr>\n",
              "  </tbody>\n",
              "</table>\n",
              "</div>"
            ],
            "text/plain": [
              "             mean      diff      risk\n",
              "partner                              \n",
              "no       0.329809  0.059841  1.221659\n",
              "yes      0.205033 -0.064935  0.759472"
            ]
          },
          "metadata": {
            "tags": []
          }
        },
        {
          "output_type": "display_data",
          "data": {
            "text/html": [
              "<div>\n",
              "<style scoped>\n",
              "    .dataframe tbody tr th:only-of-type {\n",
              "        vertical-align: middle;\n",
              "    }\n",
              "\n",
              "    .dataframe tbody tr th {\n",
              "        vertical-align: top;\n",
              "    }\n",
              "\n",
              "    .dataframe thead th {\n",
              "        text-align: right;\n",
              "    }\n",
              "</style>\n",
              "<table border=\"1\" class=\"dataframe\">\n",
              "  <thead>\n",
              "    <tr style=\"text-align: right;\">\n",
              "      <th></th>\n",
              "      <th>mean</th>\n",
              "      <th>diff</th>\n",
              "      <th>risk</th>\n",
              "    </tr>\n",
              "    <tr>\n",
              "      <th>dependents</th>\n",
              "      <th></th>\n",
              "      <th></th>\n",
              "      <th></th>\n",
              "    </tr>\n",
              "  </thead>\n",
              "  <tbody>\n",
              "    <tr>\n",
              "      <th>no</th>\n",
              "      <td>0.313760</td>\n",
              "      <td>0.043792</td>\n",
              "      <td>1.162212</td>\n",
              "    </tr>\n",
              "    <tr>\n",
              "      <th>yes</th>\n",
              "      <td>0.165666</td>\n",
              "      <td>-0.104302</td>\n",
              "      <td>0.613651</td>\n",
              "    </tr>\n",
              "  </tbody>\n",
              "</table>\n",
              "</div>"
            ],
            "text/plain": [
              "                mean      diff      risk\n",
              "dependents                              \n",
              "no          0.313760  0.043792  1.162212\n",
              "yes         0.165666 -0.104302  0.613651"
            ]
          },
          "metadata": {
            "tags": []
          }
        },
        {
          "output_type": "display_data",
          "data": {
            "text/html": [
              "<div>\n",
              "<style scoped>\n",
              "    .dataframe tbody tr th:only-of-type {\n",
              "        vertical-align: middle;\n",
              "    }\n",
              "\n",
              "    .dataframe tbody tr th {\n",
              "        vertical-align: top;\n",
              "    }\n",
              "\n",
              "    .dataframe thead th {\n",
              "        text-align: right;\n",
              "    }\n",
              "</style>\n",
              "<table border=\"1\" class=\"dataframe\">\n",
              "  <thead>\n",
              "    <tr style=\"text-align: right;\">\n",
              "      <th></th>\n",
              "      <th>mean</th>\n",
              "      <th>diff</th>\n",
              "      <th>risk</th>\n",
              "    </tr>\n",
              "    <tr>\n",
              "      <th>phoneservice</th>\n",
              "      <th></th>\n",
              "      <th></th>\n",
              "      <th></th>\n",
              "    </tr>\n",
              "  </thead>\n",
              "  <tbody>\n",
              "    <tr>\n",
              "      <th>no</th>\n",
              "      <td>0.241316</td>\n",
              "      <td>-0.028652</td>\n",
              "      <td>0.893870</td>\n",
              "    </tr>\n",
              "    <tr>\n",
              "      <th>yes</th>\n",
              "      <td>0.273049</td>\n",
              "      <td>0.003081</td>\n",
              "      <td>1.011412</td>\n",
              "    </tr>\n",
              "  </tbody>\n",
              "</table>\n",
              "</div>"
            ],
            "text/plain": [
              "                  mean      diff      risk\n",
              "phoneservice                              \n",
              "no            0.241316 -0.028652  0.893870\n",
              "yes           0.273049  0.003081  1.011412"
            ]
          },
          "metadata": {
            "tags": []
          }
        },
        {
          "output_type": "display_data",
          "data": {
            "text/html": [
              "<div>\n",
              "<style scoped>\n",
              "    .dataframe tbody tr th:only-of-type {\n",
              "        vertical-align: middle;\n",
              "    }\n",
              "\n",
              "    .dataframe tbody tr th {\n",
              "        vertical-align: top;\n",
              "    }\n",
              "\n",
              "    .dataframe thead th {\n",
              "        text-align: right;\n",
              "    }\n",
              "</style>\n",
              "<table border=\"1\" class=\"dataframe\">\n",
              "  <thead>\n",
              "    <tr style=\"text-align: right;\">\n",
              "      <th></th>\n",
              "      <th>mean</th>\n",
              "      <th>diff</th>\n",
              "      <th>risk</th>\n",
              "    </tr>\n",
              "    <tr>\n",
              "      <th>multiplelines</th>\n",
              "      <th></th>\n",
              "      <th></th>\n",
              "      <th></th>\n",
              "    </tr>\n",
              "  </thead>\n",
              "  <tbody>\n",
              "    <tr>\n",
              "      <th>no</th>\n",
              "      <td>0.257407</td>\n",
              "      <td>-0.012561</td>\n",
              "      <td>0.953474</td>\n",
              "    </tr>\n",
              "    <tr>\n",
              "      <th>no_phone_service</th>\n",
              "      <td>0.241316</td>\n",
              "      <td>-0.028652</td>\n",
              "      <td>0.893870</td>\n",
              "    </tr>\n",
              "    <tr>\n",
              "      <th>yes</th>\n",
              "      <td>0.290742</td>\n",
              "      <td>0.020773</td>\n",
              "      <td>1.076948</td>\n",
              "    </tr>\n",
              "  </tbody>\n",
              "</table>\n",
              "</div>"
            ],
            "text/plain": [
              "                      mean      diff      risk\n",
              "multiplelines                                 \n",
              "no                0.257407 -0.012561  0.953474\n",
              "no_phone_service  0.241316 -0.028652  0.893870\n",
              "yes               0.290742  0.020773  1.076948"
            ]
          },
          "metadata": {
            "tags": []
          }
        },
        {
          "output_type": "display_data",
          "data": {
            "text/html": [
              "<div>\n",
              "<style scoped>\n",
              "    .dataframe tbody tr th:only-of-type {\n",
              "        vertical-align: middle;\n",
              "    }\n",
              "\n",
              "    .dataframe tbody tr th {\n",
              "        vertical-align: top;\n",
              "    }\n",
              "\n",
              "    .dataframe thead th {\n",
              "        text-align: right;\n",
              "    }\n",
              "</style>\n",
              "<table border=\"1\" class=\"dataframe\">\n",
              "  <thead>\n",
              "    <tr style=\"text-align: right;\">\n",
              "      <th></th>\n",
              "      <th>mean</th>\n",
              "      <th>diff</th>\n",
              "      <th>risk</th>\n",
              "    </tr>\n",
              "    <tr>\n",
              "      <th>internetservice</th>\n",
              "      <th></th>\n",
              "      <th></th>\n",
              "      <th></th>\n",
              "    </tr>\n",
              "  </thead>\n",
              "  <tbody>\n",
              "    <tr>\n",
              "      <th>dsl</th>\n",
              "      <td>0.192347</td>\n",
              "      <td>-0.077621</td>\n",
              "      <td>0.712482</td>\n",
              "    </tr>\n",
              "    <tr>\n",
              "      <th>fiber_optic</th>\n",
              "      <td>0.425171</td>\n",
              "      <td>0.155203</td>\n",
              "      <td>1.574895</td>\n",
              "    </tr>\n",
              "    <tr>\n",
              "      <th>no</th>\n",
              "      <td>0.077805</td>\n",
              "      <td>-0.192163</td>\n",
              "      <td>0.288201</td>\n",
              "    </tr>\n",
              "  </tbody>\n",
              "</table>\n",
              "</div>"
            ],
            "text/plain": [
              "                     mean      diff      risk\n",
              "internetservice                              \n",
              "dsl              0.192347 -0.077621  0.712482\n",
              "fiber_optic      0.425171  0.155203  1.574895\n",
              "no               0.077805 -0.192163  0.288201"
            ]
          },
          "metadata": {
            "tags": []
          }
        },
        {
          "output_type": "display_data",
          "data": {
            "text/html": [
              "<div>\n",
              "<style scoped>\n",
              "    .dataframe tbody tr th:only-of-type {\n",
              "        vertical-align: middle;\n",
              "    }\n",
              "\n",
              "    .dataframe tbody tr th {\n",
              "        vertical-align: top;\n",
              "    }\n",
              "\n",
              "    .dataframe thead th {\n",
              "        text-align: right;\n",
              "    }\n",
              "</style>\n",
              "<table border=\"1\" class=\"dataframe\">\n",
              "  <thead>\n",
              "    <tr style=\"text-align: right;\">\n",
              "      <th></th>\n",
              "      <th>mean</th>\n",
              "      <th>diff</th>\n",
              "      <th>risk</th>\n",
              "    </tr>\n",
              "    <tr>\n",
              "      <th>onlinesecurity</th>\n",
              "      <th></th>\n",
              "      <th></th>\n",
              "      <th></th>\n",
              "    </tr>\n",
              "  </thead>\n",
              "  <tbody>\n",
              "    <tr>\n",
              "      <th>no</th>\n",
              "      <td>0.420921</td>\n",
              "      <td>0.150953</td>\n",
              "      <td>1.559152</td>\n",
              "    </tr>\n",
              "    <tr>\n",
              "      <th>no_internet_service</th>\n",
              "      <td>0.077805</td>\n",
              "      <td>-0.192163</td>\n",
              "      <td>0.288201</td>\n",
              "    </tr>\n",
              "    <tr>\n",
              "      <th>yes</th>\n",
              "      <td>0.153226</td>\n",
              "      <td>-0.116742</td>\n",
              "      <td>0.567570</td>\n",
              "    </tr>\n",
              "  </tbody>\n",
              "</table>\n",
              "</div>"
            ],
            "text/plain": [
              "                         mean      diff      risk\n",
              "onlinesecurity                                   \n",
              "no                   0.420921  0.150953  1.559152\n",
              "no_internet_service  0.077805 -0.192163  0.288201\n",
              "yes                  0.153226 -0.116742  0.567570"
            ]
          },
          "metadata": {
            "tags": []
          }
        },
        {
          "output_type": "display_data",
          "data": {
            "text/html": [
              "<div>\n",
              "<style scoped>\n",
              "    .dataframe tbody tr th:only-of-type {\n",
              "        vertical-align: middle;\n",
              "    }\n",
              "\n",
              "    .dataframe tbody tr th {\n",
              "        vertical-align: top;\n",
              "    }\n",
              "\n",
              "    .dataframe thead th {\n",
              "        text-align: right;\n",
              "    }\n",
              "</style>\n",
              "<table border=\"1\" class=\"dataframe\">\n",
              "  <thead>\n",
              "    <tr style=\"text-align: right;\">\n",
              "      <th></th>\n",
              "      <th>mean</th>\n",
              "      <th>diff</th>\n",
              "      <th>risk</th>\n",
              "    </tr>\n",
              "    <tr>\n",
              "      <th>onlinebackup</th>\n",
              "      <th></th>\n",
              "      <th></th>\n",
              "      <th></th>\n",
              "    </tr>\n",
              "  </thead>\n",
              "  <tbody>\n",
              "    <tr>\n",
              "      <th>no</th>\n",
              "      <td>0.404323</td>\n",
              "      <td>0.134355</td>\n",
              "      <td>1.497672</td>\n",
              "    </tr>\n",
              "    <tr>\n",
              "      <th>no_internet_service</th>\n",
              "      <td>0.077805</td>\n",
              "      <td>-0.192163</td>\n",
              "      <td>0.288201</td>\n",
              "    </tr>\n",
              "    <tr>\n",
              "      <th>yes</th>\n",
              "      <td>0.217232</td>\n",
              "      <td>-0.052736</td>\n",
              "      <td>0.804660</td>\n",
              "    </tr>\n",
              "  </tbody>\n",
              "</table>\n",
              "</div>"
            ],
            "text/plain": [
              "                         mean      diff      risk\n",
              "onlinebackup                                     \n",
              "no                   0.404323  0.134355  1.497672\n",
              "no_internet_service  0.077805 -0.192163  0.288201\n",
              "yes                  0.217232 -0.052736  0.804660"
            ]
          },
          "metadata": {
            "tags": []
          }
        },
        {
          "output_type": "display_data",
          "data": {
            "text/html": [
              "<div>\n",
              "<style scoped>\n",
              "    .dataframe tbody tr th:only-of-type {\n",
              "        vertical-align: middle;\n",
              "    }\n",
              "\n",
              "    .dataframe tbody tr th {\n",
              "        vertical-align: top;\n",
              "    }\n",
              "\n",
              "    .dataframe thead th {\n",
              "        text-align: right;\n",
              "    }\n",
              "</style>\n",
              "<table border=\"1\" class=\"dataframe\">\n",
              "  <thead>\n",
              "    <tr style=\"text-align: right;\">\n",
              "      <th></th>\n",
              "      <th>mean</th>\n",
              "      <th>diff</th>\n",
              "      <th>risk</th>\n",
              "    </tr>\n",
              "    <tr>\n",
              "      <th>deviceprotection</th>\n",
              "      <th></th>\n",
              "      <th></th>\n",
              "      <th></th>\n",
              "    </tr>\n",
              "  </thead>\n",
              "  <tbody>\n",
              "    <tr>\n",
              "      <th>no</th>\n",
              "      <td>0.395875</td>\n",
              "      <td>0.125907</td>\n",
              "      <td>1.466379</td>\n",
              "    </tr>\n",
              "    <tr>\n",
              "      <th>no_internet_service</th>\n",
              "      <td>0.077805</td>\n",
              "      <td>-0.192163</td>\n",
              "      <td>0.288201</td>\n",
              "    </tr>\n",
              "    <tr>\n",
              "      <th>yes</th>\n",
              "      <td>0.230412</td>\n",
              "      <td>-0.039556</td>\n",
              "      <td>0.853480</td>\n",
              "    </tr>\n",
              "  </tbody>\n",
              "</table>\n",
              "</div>"
            ],
            "text/plain": [
              "                         mean      diff      risk\n",
              "deviceprotection                                 \n",
              "no                   0.395875  0.125907  1.466379\n",
              "no_internet_service  0.077805 -0.192163  0.288201\n",
              "yes                  0.230412 -0.039556  0.853480"
            ]
          },
          "metadata": {
            "tags": []
          }
        },
        {
          "output_type": "display_data",
          "data": {
            "text/html": [
              "<div>\n",
              "<style scoped>\n",
              "    .dataframe tbody tr th:only-of-type {\n",
              "        vertical-align: middle;\n",
              "    }\n",
              "\n",
              "    .dataframe tbody tr th {\n",
              "        vertical-align: top;\n",
              "    }\n",
              "\n",
              "    .dataframe thead th {\n",
              "        text-align: right;\n",
              "    }\n",
              "</style>\n",
              "<table border=\"1\" class=\"dataframe\">\n",
              "  <thead>\n",
              "    <tr style=\"text-align: right;\">\n",
              "      <th></th>\n",
              "      <th>mean</th>\n",
              "      <th>diff</th>\n",
              "      <th>risk</th>\n",
              "    </tr>\n",
              "    <tr>\n",
              "      <th>techsupport</th>\n",
              "      <th></th>\n",
              "      <th></th>\n",
              "      <th></th>\n",
              "    </tr>\n",
              "  </thead>\n",
              "  <tbody>\n",
              "    <tr>\n",
              "      <th>no</th>\n",
              "      <td>0.418914</td>\n",
              "      <td>0.148946</td>\n",
              "      <td>1.551717</td>\n",
              "    </tr>\n",
              "    <tr>\n",
              "      <th>no_internet_service</th>\n",
              "      <td>0.077805</td>\n",
              "      <td>-0.192163</td>\n",
              "      <td>0.288201</td>\n",
              "    </tr>\n",
              "    <tr>\n",
              "      <th>yes</th>\n",
              "      <td>0.159926</td>\n",
              "      <td>-0.110042</td>\n",
              "      <td>0.592390</td>\n",
              "    </tr>\n",
              "  </tbody>\n",
              "</table>\n",
              "</div>"
            ],
            "text/plain": [
              "                         mean      diff      risk\n",
              "techsupport                                      \n",
              "no                   0.418914  0.148946  1.551717\n",
              "no_internet_service  0.077805 -0.192163  0.288201\n",
              "yes                  0.159926 -0.110042  0.592390"
            ]
          },
          "metadata": {
            "tags": []
          }
        },
        {
          "output_type": "display_data",
          "data": {
            "text/html": [
              "<div>\n",
              "<style scoped>\n",
              "    .dataframe tbody tr th:only-of-type {\n",
              "        vertical-align: middle;\n",
              "    }\n",
              "\n",
              "    .dataframe tbody tr th {\n",
              "        vertical-align: top;\n",
              "    }\n",
              "\n",
              "    .dataframe thead th {\n",
              "        text-align: right;\n",
              "    }\n",
              "</style>\n",
              "<table border=\"1\" class=\"dataframe\">\n",
              "  <thead>\n",
              "    <tr style=\"text-align: right;\">\n",
              "      <th></th>\n",
              "      <th>mean</th>\n",
              "      <th>diff</th>\n",
              "      <th>risk</th>\n",
              "    </tr>\n",
              "    <tr>\n",
              "      <th>streamingtv</th>\n",
              "      <th></th>\n",
              "      <th></th>\n",
              "      <th></th>\n",
              "    </tr>\n",
              "  </thead>\n",
              "  <tbody>\n",
              "    <tr>\n",
              "      <th>no</th>\n",
              "      <td>0.342832</td>\n",
              "      <td>0.072864</td>\n",
              "      <td>1.269897</td>\n",
              "    </tr>\n",
              "    <tr>\n",
              "      <th>no_internet_service</th>\n",
              "      <td>0.077805</td>\n",
              "      <td>-0.192163</td>\n",
              "      <td>0.288201</td>\n",
              "    </tr>\n",
              "    <tr>\n",
              "      <th>yes</th>\n",
              "      <td>0.302723</td>\n",
              "      <td>0.032755</td>\n",
              "      <td>1.121328</td>\n",
              "    </tr>\n",
              "  </tbody>\n",
              "</table>\n",
              "</div>"
            ],
            "text/plain": [
              "                         mean      diff      risk\n",
              "streamingtv                                      \n",
              "no                   0.342832  0.072864  1.269897\n",
              "no_internet_service  0.077805 -0.192163  0.288201\n",
              "yes                  0.302723  0.032755  1.121328"
            ]
          },
          "metadata": {
            "tags": []
          }
        },
        {
          "output_type": "display_data",
          "data": {
            "text/html": [
              "<div>\n",
              "<style scoped>\n",
              "    .dataframe tbody tr th:only-of-type {\n",
              "        vertical-align: middle;\n",
              "    }\n",
              "\n",
              "    .dataframe tbody tr th {\n",
              "        vertical-align: top;\n",
              "    }\n",
              "\n",
              "    .dataframe thead th {\n",
              "        text-align: right;\n",
              "    }\n",
              "</style>\n",
              "<table border=\"1\" class=\"dataframe\">\n",
              "  <thead>\n",
              "    <tr style=\"text-align: right;\">\n",
              "      <th></th>\n",
              "      <th>mean</th>\n",
              "      <th>diff</th>\n",
              "      <th>risk</th>\n",
              "    </tr>\n",
              "    <tr>\n",
              "      <th>streamingmovies</th>\n",
              "      <th></th>\n",
              "      <th></th>\n",
              "      <th></th>\n",
              "    </tr>\n",
              "  </thead>\n",
              "  <tbody>\n",
              "    <tr>\n",
              "      <th>no</th>\n",
              "      <td>0.338906</td>\n",
              "      <td>0.068938</td>\n",
              "      <td>1.255358</td>\n",
              "    </tr>\n",
              "    <tr>\n",
              "      <th>no_internet_service</th>\n",
              "      <td>0.077805</td>\n",
              "      <td>-0.192163</td>\n",
              "      <td>0.288201</td>\n",
              "    </tr>\n",
              "    <tr>\n",
              "      <th>yes</th>\n",
              "      <td>0.307273</td>\n",
              "      <td>0.037305</td>\n",
              "      <td>1.138182</td>\n",
              "    </tr>\n",
              "  </tbody>\n",
              "</table>\n",
              "</div>"
            ],
            "text/plain": [
              "                         mean      diff      risk\n",
              "streamingmovies                                  \n",
              "no                   0.338906  0.068938  1.255358\n",
              "no_internet_service  0.077805 -0.192163  0.288201\n",
              "yes                  0.307273  0.037305  1.138182"
            ]
          },
          "metadata": {
            "tags": []
          }
        },
        {
          "output_type": "display_data",
          "data": {
            "text/html": [
              "<div>\n",
              "<style scoped>\n",
              "    .dataframe tbody tr th:only-of-type {\n",
              "        vertical-align: middle;\n",
              "    }\n",
              "\n",
              "    .dataframe tbody tr th {\n",
              "        vertical-align: top;\n",
              "    }\n",
              "\n",
              "    .dataframe thead th {\n",
              "        text-align: right;\n",
              "    }\n",
              "</style>\n",
              "<table border=\"1\" class=\"dataframe\">\n",
              "  <thead>\n",
              "    <tr style=\"text-align: right;\">\n",
              "      <th></th>\n",
              "      <th>mean</th>\n",
              "      <th>diff</th>\n",
              "      <th>risk</th>\n",
              "    </tr>\n",
              "    <tr>\n",
              "      <th>contract</th>\n",
              "      <th></th>\n",
              "      <th></th>\n",
              "      <th></th>\n",
              "    </tr>\n",
              "  </thead>\n",
              "  <tbody>\n",
              "    <tr>\n",
              "      <th>month-to-month</th>\n",
              "      <td>0.431701</td>\n",
              "      <td>0.161733</td>\n",
              "      <td>1.599082</td>\n",
              "    </tr>\n",
              "    <tr>\n",
              "      <th>one_year</th>\n",
              "      <td>0.120573</td>\n",
              "      <td>-0.149395</td>\n",
              "      <td>0.446621</td>\n",
              "    </tr>\n",
              "    <tr>\n",
              "      <th>two_year</th>\n",
              "      <td>0.028274</td>\n",
              "      <td>-0.241694</td>\n",
              "      <td>0.104730</td>\n",
              "    </tr>\n",
              "  </tbody>\n",
              "</table>\n",
              "</div>"
            ],
            "text/plain": [
              "                    mean      diff      risk\n",
              "contract                                    \n",
              "month-to-month  0.431701  0.161733  1.599082\n",
              "one_year        0.120573 -0.149395  0.446621\n",
              "two_year        0.028274 -0.241694  0.104730"
            ]
          },
          "metadata": {
            "tags": []
          }
        },
        {
          "output_type": "display_data",
          "data": {
            "text/html": [
              "<div>\n",
              "<style scoped>\n",
              "    .dataframe tbody tr th:only-of-type {\n",
              "        vertical-align: middle;\n",
              "    }\n",
              "\n",
              "    .dataframe tbody tr th {\n",
              "        vertical-align: top;\n",
              "    }\n",
              "\n",
              "    .dataframe thead th {\n",
              "        text-align: right;\n",
              "    }\n",
              "</style>\n",
              "<table border=\"1\" class=\"dataframe\">\n",
              "  <thead>\n",
              "    <tr style=\"text-align: right;\">\n",
              "      <th></th>\n",
              "      <th>mean</th>\n",
              "      <th>diff</th>\n",
              "      <th>risk</th>\n",
              "    </tr>\n",
              "    <tr>\n",
              "      <th>paperlessbilling</th>\n",
              "      <th></th>\n",
              "      <th></th>\n",
              "      <th></th>\n",
              "    </tr>\n",
              "  </thead>\n",
              "  <tbody>\n",
              "    <tr>\n",
              "      <th>no</th>\n",
              "      <td>0.172071</td>\n",
              "      <td>-0.097897</td>\n",
              "      <td>0.637375</td>\n",
              "    </tr>\n",
              "    <tr>\n",
              "      <th>yes</th>\n",
              "      <td>0.338151</td>\n",
              "      <td>0.068183</td>\n",
              "      <td>1.252560</td>\n",
              "    </tr>\n",
              "  </tbody>\n",
              "</table>\n",
              "</div>"
            ],
            "text/plain": [
              "                      mean      diff      risk\n",
              "paperlessbilling                              \n",
              "no                0.172071 -0.097897  0.637375\n",
              "yes               0.338151  0.068183  1.252560"
            ]
          },
          "metadata": {
            "tags": []
          }
        },
        {
          "output_type": "display_data",
          "data": {
            "text/html": [
              "<div>\n",
              "<style scoped>\n",
              "    .dataframe tbody tr th:only-of-type {\n",
              "        vertical-align: middle;\n",
              "    }\n",
              "\n",
              "    .dataframe tbody tr th {\n",
              "        vertical-align: top;\n",
              "    }\n",
              "\n",
              "    .dataframe thead th {\n",
              "        text-align: right;\n",
              "    }\n",
              "</style>\n",
              "<table border=\"1\" class=\"dataframe\">\n",
              "  <thead>\n",
              "    <tr style=\"text-align: right;\">\n",
              "      <th></th>\n",
              "      <th>mean</th>\n",
              "      <th>diff</th>\n",
              "      <th>risk</th>\n",
              "    </tr>\n",
              "    <tr>\n",
              "      <th>paymentmethod</th>\n",
              "      <th></th>\n",
              "      <th></th>\n",
              "      <th></th>\n",
              "    </tr>\n",
              "  </thead>\n",
              "  <tbody>\n",
              "    <tr>\n",
              "      <th>bank_transfer_(automatic)</th>\n",
              "      <td>0.168171</td>\n",
              "      <td>-0.101797</td>\n",
              "      <td>0.622928</td>\n",
              "    </tr>\n",
              "    <tr>\n",
              "      <th>credit_card_(automatic)</th>\n",
              "      <td>0.164339</td>\n",
              "      <td>-0.105630</td>\n",
              "      <td>0.608733</td>\n",
              "    </tr>\n",
              "    <tr>\n",
              "      <th>electronic_check</th>\n",
              "      <td>0.455890</td>\n",
              "      <td>0.185922</td>\n",
              "      <td>1.688682</td>\n",
              "    </tr>\n",
              "    <tr>\n",
              "      <th>mailed_check</th>\n",
              "      <td>0.193870</td>\n",
              "      <td>-0.076098</td>\n",
              "      <td>0.718121</td>\n",
              "    </tr>\n",
              "  </tbody>\n",
              "</table>\n",
              "</div>"
            ],
            "text/plain": [
              "                               mean      diff      risk\n",
              "paymentmethod                                          \n",
              "bank_transfer_(automatic)  0.168171 -0.101797  0.622928\n",
              "credit_card_(automatic)    0.164339 -0.105630  0.608733\n",
              "electronic_check           0.455890  0.185922  1.688682\n",
              "mailed_check               0.193870 -0.076098  0.718121"
            ]
          },
          "metadata": {
            "tags": []
          }
        }
      ]
    },
    {
      "cell_type": "code",
      "metadata": {
        "id": "15AG73CLLDuK"
      },
      "source": [
        "from sklearn.metrics import mutual_info_score"
      ],
      "execution_count": null,
      "outputs": []
    },
    {
      "cell_type": "code",
      "metadata": {
        "colab": {
          "base_uri": "https://localhost:8080/",
          "height": 391
        },
        "id": "Skda05NVf8jq",
        "outputId": "b513d143-1f1c-4772-d087-a6905a590d5f"
      },
      "source": [
        "#Mutual info score between variables and the target label\n",
        "def calculate_mi(series):\n",
        "    return mutual_info_score(series, df_train_full.churn) #Mutual info score is calculated for each variable in relation to \"churn\"\n",
        "\n",
        "df_mi = df_train_full[categorical].apply(calculate_mi) #Apply the function calculate_mi to each categorical column of the dataset. See https://pandas.pydata.org/pandas-docs/stable/reference/api/pandas.DataFrame.apply.html\n",
        "df_mi = df_mi.sort_values(ascending=False).to_frame(name='MI')\n",
        "\n",
        "\n",
        "display(df_mi.head())\n",
        "display(df_mi.tail())"
      ],
      "execution_count": null,
      "outputs": [
        {
          "output_type": "display_data",
          "data": {
            "text/html": [
              "<div>\n",
              "<style scoped>\n",
              "    .dataframe tbody tr th:only-of-type {\n",
              "        vertical-align: middle;\n",
              "    }\n",
              "\n",
              "    .dataframe tbody tr th {\n",
              "        vertical-align: top;\n",
              "    }\n",
              "\n",
              "    .dataframe thead th {\n",
              "        text-align: right;\n",
              "    }\n",
              "</style>\n",
              "<table border=\"1\" class=\"dataframe\">\n",
              "  <thead>\n",
              "    <tr style=\"text-align: right;\">\n",
              "      <th></th>\n",
              "      <th>MI</th>\n",
              "    </tr>\n",
              "  </thead>\n",
              "  <tbody>\n",
              "    <tr>\n",
              "      <th>contract</th>\n",
              "      <td>0.098320</td>\n",
              "    </tr>\n",
              "    <tr>\n",
              "      <th>onlinesecurity</th>\n",
              "      <td>0.063085</td>\n",
              "    </tr>\n",
              "    <tr>\n",
              "      <th>techsupport</th>\n",
              "      <td>0.061032</td>\n",
              "    </tr>\n",
              "    <tr>\n",
              "      <th>internetservice</th>\n",
              "      <td>0.055868</td>\n",
              "    </tr>\n",
              "    <tr>\n",
              "      <th>onlinebackup</th>\n",
              "      <td>0.046923</td>\n",
              "    </tr>\n",
              "  </tbody>\n",
              "</table>\n",
              "</div>"
            ],
            "text/plain": [
              "                       MI\n",
              "contract         0.098320\n",
              "onlinesecurity   0.063085\n",
              "techsupport      0.061032\n",
              "internetservice  0.055868\n",
              "onlinebackup     0.046923"
            ]
          },
          "metadata": {
            "tags": []
          }
        },
        {
          "output_type": "display_data",
          "data": {
            "text/html": [
              "<div>\n",
              "<style scoped>\n",
              "    .dataframe tbody tr th:only-of-type {\n",
              "        vertical-align: middle;\n",
              "    }\n",
              "\n",
              "    .dataframe tbody tr th {\n",
              "        vertical-align: top;\n",
              "    }\n",
              "\n",
              "    .dataframe thead th {\n",
              "        text-align: right;\n",
              "    }\n",
              "</style>\n",
              "<table border=\"1\" class=\"dataframe\">\n",
              "  <thead>\n",
              "    <tr style=\"text-align: right;\">\n",
              "      <th></th>\n",
              "      <th>MI</th>\n",
              "    </tr>\n",
              "  </thead>\n",
              "  <tbody>\n",
              "    <tr>\n",
              "      <th>partner</th>\n",
              "      <td>0.009968</td>\n",
              "    </tr>\n",
              "    <tr>\n",
              "      <th>seniorcitizen</th>\n",
              "      <td>0.009410</td>\n",
              "    </tr>\n",
              "    <tr>\n",
              "      <th>multiplelines</th>\n",
              "      <td>0.000857</td>\n",
              "    </tr>\n",
              "    <tr>\n",
              "      <th>phoneservice</th>\n",
              "      <td>0.000229</td>\n",
              "    </tr>\n",
              "    <tr>\n",
              "      <th>gender</th>\n",
              "      <td>0.000117</td>\n",
              "    </tr>\n",
              "  </tbody>\n",
              "</table>\n",
              "</div>"
            ],
            "text/plain": [
              "                     MI\n",
              "partner        0.009968\n",
              "seniorcitizen  0.009410\n",
              "multiplelines  0.000857\n",
              "phoneservice   0.000229\n",
              "gender         0.000117"
            ]
          },
          "metadata": {
            "tags": []
          }
        }
      ]
    },
    {
      "cell_type": "code",
      "metadata": {
        "colab": {
          "base_uri": "https://localhost:8080/",
          "height": 142
        },
        "id": "emarPHtUTX17",
        "outputId": "e55a70a0-863f-488b-e60c-abceb2237248"
      },
      "source": [
        "#Mutual information can be used between categorical variables, not numerical. Thus, we use \"Pearson’s correlation coefficient\" instead for numerical variables\n",
        "#Correlation between churn and tenure/total charges is negative. One goes up, the other one goes down\n",
        "#Correlation between churn and monthly charges is positive, one goes up, so does the other one\n",
        "df_train_full[numerical].corrwith(df_train_full.churn).to_frame('correlation')"
      ],
      "execution_count": null,
      "outputs": [
        {
          "output_type": "execute_result",
          "data": {
            "text/html": [
              "<div>\n",
              "<style scoped>\n",
              "    .dataframe tbody tr th:only-of-type {\n",
              "        vertical-align: middle;\n",
              "    }\n",
              "\n",
              "    .dataframe tbody tr th {\n",
              "        vertical-align: top;\n",
              "    }\n",
              "\n",
              "    .dataframe thead th {\n",
              "        text-align: right;\n",
              "    }\n",
              "</style>\n",
              "<table border=\"1\" class=\"dataframe\">\n",
              "  <thead>\n",
              "    <tr style=\"text-align: right;\">\n",
              "      <th></th>\n",
              "      <th>correlation</th>\n",
              "    </tr>\n",
              "  </thead>\n",
              "  <tbody>\n",
              "    <tr>\n",
              "      <th>tenure</th>\n",
              "      <td>-0.351885</td>\n",
              "    </tr>\n",
              "    <tr>\n",
              "      <th>monthlycharges</th>\n",
              "      <td>0.196805</td>\n",
              "    </tr>\n",
              "    <tr>\n",
              "      <th>totalcharges</th>\n",
              "      <td>-0.196353</td>\n",
              "    </tr>\n",
              "  </tbody>\n",
              "</table>\n",
              "</div>"
            ],
            "text/plain": [
              "                correlation\n",
              "tenure            -0.351885\n",
              "monthlycharges     0.196805\n",
              "totalcharges      -0.196353"
            ]
          },
          "metadata": {
            "tags": []
          },
          "execution_count": 35
        }
      ]
    },
    {
      "cell_type": "code",
      "metadata": {
        "colab": {
          "base_uri": "https://localhost:8080/",
          "height": 142
        },
        "id": "j6OTTWD9YwBr",
        "outputId": "79a712b9-ea71-4720-8680-56ebddb69d0f"
      },
      "source": [
        "df_train_full.groupby(by='churn')[numerical].mean() #These numbers confirm the correlation figures above"
      ],
      "execution_count": null,
      "outputs": [
        {
          "output_type": "execute_result",
          "data": {
            "text/html": [
              "<div>\n",
              "<style scoped>\n",
              "    .dataframe tbody tr th:only-of-type {\n",
              "        vertical-align: middle;\n",
              "    }\n",
              "\n",
              "    .dataframe tbody tr th {\n",
              "        vertical-align: top;\n",
              "    }\n",
              "\n",
              "    .dataframe thead th {\n",
              "        text-align: right;\n",
              "    }\n",
              "</style>\n",
              "<table border=\"1\" class=\"dataframe\">\n",
              "  <thead>\n",
              "    <tr style=\"text-align: right;\">\n",
              "      <th></th>\n",
              "      <th>tenure</th>\n",
              "      <th>monthlycharges</th>\n",
              "      <th>totalcharges</th>\n",
              "    </tr>\n",
              "    <tr>\n",
              "      <th>churn</th>\n",
              "      <th></th>\n",
              "      <th></th>\n",
              "      <th></th>\n",
              "    </tr>\n",
              "  </thead>\n",
              "  <tbody>\n",
              "    <tr>\n",
              "      <th>0</th>\n",
              "      <td>37.531972</td>\n",
              "      <td>61.176477</td>\n",
              "      <td>2548.021627</td>\n",
              "    </tr>\n",
              "    <tr>\n",
              "      <th>1</th>\n",
              "      <td>18.070348</td>\n",
              "      <td>74.521203</td>\n",
              "      <td>1545.689415</td>\n",
              "    </tr>\n",
              "  </tbody>\n",
              "</table>\n",
              "</div>"
            ],
            "text/plain": [
              "          tenure  monthlycharges  totalcharges\n",
              "churn                                         \n",
              "0      37.531972       61.176477   2548.021627\n",
              "1      18.070348       74.521203   1545.689415"
            ]
          },
          "metadata": {
            "tags": []
          },
          "execution_count": 36
        }
      ]
    },
    {
      "cell_type": "code",
      "metadata": {
        "id": "R7tnxXwLgFiz"
      },
      "source": [
        "#Note that the examples of original values in the categorical variables are male/female for gender, yes/no for online security, one year/two year/monthly for contract. We need to transform these into numbers using one-hot encoding. \n",
        "from sklearn.feature_extraction import DictVectorizer"
      ],
      "execution_count": null,
      "outputs": []
    },
    {
      "cell_type": "code",
      "metadata": {
        "colab": {
          "base_uri": "https://localhost:8080/"
        },
        "id": "FhwfOyIViv4N",
        "outputId": "02fe4903-3470-41ef-85da-5314a0dc5e63"
      },
      "source": [
        "df_train.shape #Number of columns before one-hot encoding = 20"
      ],
      "execution_count": null,
      "outputs": [
        {
          "output_type": "execute_result",
          "data": {
            "text/plain": [
              "(3774, 20)"
            ]
          },
          "metadata": {
            "tags": []
          },
          "execution_count": 38
        }
      ]
    },
    {
      "cell_type": "code",
      "metadata": {
        "id": "xS82T_VSgY0C"
      },
      "source": [
        "train_dict = df_train[categorical + numerical].to_dict(orient='records') #DictVectorizer will only transform categorical variables and numerical ones will be left untouched"
      ],
      "execution_count": null,
      "outputs": []
    },
    {
      "cell_type": "code",
      "metadata": {
        "colab": {
          "base_uri": "https://localhost:8080/"
        },
        "id": "h1SvHKFdhNYB",
        "outputId": "409b2133-1a31-4a62-d644-0ec9688837d9"
      },
      "source": [
        "train_dict[0]"
      ],
      "execution_count": null,
      "outputs": [
        {
          "output_type": "execute_result",
          "data": {
            "text/plain": [
              "{'contract': 'two_year',\n",
              " 'dependents': 'no',\n",
              " 'deviceprotection': 'yes',\n",
              " 'gender': 'male',\n",
              " 'internetservice': 'dsl',\n",
              " 'monthlycharges': 86.1,\n",
              " 'multiplelines': 'no',\n",
              " 'onlinebackup': 'yes',\n",
              " 'onlinesecurity': 'yes',\n",
              " 'paperlessbilling': 'yes',\n",
              " 'partner': 'yes',\n",
              " 'paymentmethod': 'bank_transfer_(automatic)',\n",
              " 'phoneservice': 'yes',\n",
              " 'seniorcitizen': 0,\n",
              " 'streamingmovies': 'yes',\n",
              " 'streamingtv': 'yes',\n",
              " 'techsupport': 'yes',\n",
              " 'tenure': 71,\n",
              " 'totalcharges': 6045.9}"
            ]
          },
          "metadata": {
            "tags": []
          },
          "execution_count": 40
        }
      ]
    },
    {
      "cell_type": "code",
      "metadata": {
        "colab": {
          "base_uri": "https://localhost:8080/"
        },
        "id": "rSKNZd2ThcQl",
        "outputId": "4d92e3ed-460e-4b7b-bd7a-dfec1c4cb093"
      },
      "source": [
        "dv = DictVectorizer(sparse=False)\n",
        "dv.fit(train_dict)"
      ],
      "execution_count": null,
      "outputs": [
        {
          "output_type": "execute_result",
          "data": {
            "text/plain": [
              "DictVectorizer(dtype=<class 'numpy.float64'>, separator='=', sort=True,\n",
              "               sparse=False)"
            ]
          },
          "metadata": {
            "tags": []
          },
          "execution_count": 41
        }
      ]
    },
    {
      "cell_type": "code",
      "metadata": {
        "id": "G96REBVrh9u1"
      },
      "source": [
        "X_train = dv.transform(train_dict)"
      ],
      "execution_count": null,
      "outputs": []
    },
    {
      "cell_type": "code",
      "metadata": {
        "colab": {
          "base_uri": "https://localhost:8080/"
        },
        "id": "rOVq3IZziYMy",
        "outputId": "0ce28fbe-f7d3-444d-8635-f6c99b49c5e1"
      },
      "source": [
        "X_train.shape #Number of columns after one-hot encoding = 45"
      ],
      "execution_count": null,
      "outputs": [
        {
          "output_type": "execute_result",
          "data": {
            "text/plain": [
              "(3774, 45)"
            ]
          },
          "metadata": {
            "tags": []
          },
          "execution_count": 43
        }
      ]
    },
    {
      "cell_type": "code",
      "metadata": {
        "colab": {
          "base_uri": "https://localhost:8080/"
        },
        "id": "Pfipx4hwi5C1",
        "outputId": "0437513d-09fc-4f3f-a1db-2fc235633d94"
      },
      "source": [
        "dv.get_feature_names()"
      ],
      "execution_count": null,
      "outputs": [
        {
          "output_type": "execute_result",
          "data": {
            "text/plain": [
              "['contract=month-to-month',\n",
              " 'contract=one_year',\n",
              " 'contract=two_year',\n",
              " 'dependents=no',\n",
              " 'dependents=yes',\n",
              " 'deviceprotection=no',\n",
              " 'deviceprotection=no_internet_service',\n",
              " 'deviceprotection=yes',\n",
              " 'gender=female',\n",
              " 'gender=male',\n",
              " 'internetservice=dsl',\n",
              " 'internetservice=fiber_optic',\n",
              " 'internetservice=no',\n",
              " 'monthlycharges',\n",
              " 'multiplelines=no',\n",
              " 'multiplelines=no_phone_service',\n",
              " 'multiplelines=yes',\n",
              " 'onlinebackup=no',\n",
              " 'onlinebackup=no_internet_service',\n",
              " 'onlinebackup=yes',\n",
              " 'onlinesecurity=no',\n",
              " 'onlinesecurity=no_internet_service',\n",
              " 'onlinesecurity=yes',\n",
              " 'paperlessbilling=no',\n",
              " 'paperlessbilling=yes',\n",
              " 'partner=no',\n",
              " 'partner=yes',\n",
              " 'paymentmethod=bank_transfer_(automatic)',\n",
              " 'paymentmethod=credit_card_(automatic)',\n",
              " 'paymentmethod=electronic_check',\n",
              " 'paymentmethod=mailed_check',\n",
              " 'phoneservice=no',\n",
              " 'phoneservice=yes',\n",
              " 'seniorcitizen',\n",
              " 'streamingmovies=no',\n",
              " 'streamingmovies=no_internet_service',\n",
              " 'streamingmovies=yes',\n",
              " 'streamingtv=no',\n",
              " 'streamingtv=no_internet_service',\n",
              " 'streamingtv=yes',\n",
              " 'techsupport=no',\n",
              " 'techsupport=no_internet_service',\n",
              " 'techsupport=yes',\n",
              " 'tenure',\n",
              " 'totalcharges']"
            ]
          },
          "metadata": {
            "tags": []
          },
          "execution_count": 44
        }
      ]
    },
    {
      "cell_type": "markdown",
      "metadata": {
        "id": "tyCVj-qenEBZ"
      },
      "source": [
        "Training"
      ]
    },
    {
      "cell_type": "code",
      "metadata": {
        "id": "mEoU5iVunHeJ"
      },
      "source": [
        "from sklearn.linear_model import LogisticRegression"
      ],
      "execution_count": null,
      "outputs": []
    },
    {
      "cell_type": "code",
      "metadata": {
        "colab": {
          "base_uri": "https://localhost:8080/"
        },
        "id": "JO2xqY5zzAim",
        "outputId": "92638d48-bf35-4d01-daaf-719f7c69040b"
      },
      "source": [
        "#Train the model\n",
        "model = LogisticRegression(solver='liblinear', random_state=1)\n",
        "model.fit(X_train, y_train)"
      ],
      "execution_count": null,
      "outputs": [
        {
          "output_type": "execute_result",
          "data": {
            "text/plain": [
              "LogisticRegression(C=1.0, class_weight=None, dual=False, fit_intercept=True,\n",
              "                   intercept_scaling=1, l1_ratio=None, max_iter=100,\n",
              "                   multi_class='auto', n_jobs=None, penalty='l2',\n",
              "                   random_state=1, solver='liblinear', tol=0.0001, verbose=0,\n",
              "                   warm_start=False)"
            ]
          },
          "metadata": {
            "tags": []
          },
          "execution_count": 46
        }
      ]
    },
    {
      "cell_type": "code",
      "metadata": {
        "id": "RBGExwjT06wB"
      },
      "source": [
        "#One-hot encoding of validation dataset. NOTE THAT WE TRAIN DictVectorizer ONLY ONCE ON TRAINING DATA FOR ONE-HOT ENCODING AND THEN USE IT TO TRANSFORM THE TRAINING, VALIDATION AND TEST DATASETS\n",
        "val_dict = df_val[categorical + numerical].to_dict(orient='records')\n",
        "X_val = dv.transform(val_dict)"
      ],
      "execution_count": null,
      "outputs": []
    },
    {
      "cell_type": "code",
      "metadata": {
        "colab": {
          "base_uri": "https://localhost:8080/"
        },
        "id": "Tf-FNnti23et",
        "outputId": "c8d89c93-0147-4ab8-ac8e-83f1e1bea29b"
      },
      "source": [
        "#Evaluate the model using validation dataset\n",
        "model.predict_proba(X_val)"
      ],
      "execution_count": null,
      "outputs": [
        {
          "output_type": "execute_result",
          "data": {
            "text/plain": [
              "array([[0.76508784, 0.23491216],\n",
              "       [0.73113015, 0.26886985],\n",
              "       [0.68054704, 0.31945296],\n",
              "       ...,\n",
              "       [0.94274614, 0.05725386],\n",
              "       [0.38476895, 0.61523105],\n",
              "       [0.93872763, 0.06127237]])"
            ]
          },
          "metadata": {
            "tags": []
          },
          "execution_count": 48
        }
      ]
    },
    {
      "cell_type": "code",
      "metadata": {
        "id": "jXqOGc1a3JUk"
      },
      "source": [
        "y_pred = model.predict_proba(X_val)[:, 1] #Probablities are retuned in 2 columns, first for churn =0 and second for churn - 1. We take only the second column into account here as we are interested in finding out the probability of a customer churning"
      ],
      "execution_count": null,
      "outputs": []
    },
    {
      "cell_type": "code",
      "metadata": {
        "colab": {
          "base_uri": "https://localhost:8080/"
        },
        "id": "io0kKx405OXv",
        "outputId": "1cf0b9b9-42ef-4cac-d422-aed536d6a12e"
      },
      "source": [
        "y_pred"
      ],
      "execution_count": null,
      "outputs": [
        {
          "output_type": "execute_result",
          "data": {
            "text/plain": [
              "array([0.23491216, 0.26886985, 0.31945296, ..., 0.05725386, 0.61523105,\n",
              "       0.06127237])"
            ]
          },
          "metadata": {
            "tags": []
          },
          "execution_count": 50
        }
      ]
    },
    {
      "cell_type": "code",
      "metadata": {
        "id": "hBIYaUea5iwP"
      },
      "source": [
        "#If the probability of churning (second column in prediciton as indicated above) is greater than 0.5, we consider that the customer has likelihood of churning\n",
        "churn = y_pred > 0.5"
      ],
      "execution_count": null,
      "outputs": []
    },
    {
      "cell_type": "code",
      "metadata": {
        "colab": {
          "base_uri": "https://localhost:8080/"
        },
        "id": "w0ZCH-HsD5zz",
        "outputId": "46e950e1-aef6-4dec-b665-deb2ef589489"
      },
      "source": [
        "(y_val == churn).mean() #Calculation of accuracy"
      ],
      "execution_count": null,
      "outputs": [
        {
          "output_type": "execute_result",
          "data": {
            "text/plain": [
              "0.8016129032258065"
            ]
          },
          "metadata": {
            "tags": []
          },
          "execution_count": 52
        }
      ]
    },
    {
      "cell_type": "markdown",
      "metadata": {
        "id": "rBUwT1PlFidS"
      },
      "source": [
        "Interpreting the model"
      ]
    },
    {
      "cell_type": "code",
      "metadata": {
        "colab": {
          "base_uri": "https://localhost:8080/"
        },
        "id": "nLrXWcRhFm8f",
        "outputId": "e3760466-711f-4fa6-ae22-49cf8da3051f"
      },
      "source": [
        "#Model intercept. FIRST WEIGHT IS ALWAYS THE INTERCEPT / BIAS\n",
        "model.intercept_[0]"
      ],
      "execution_count": null,
      "outputs": [
        {
          "output_type": "execute_result",
          "data": {
            "text/plain": [
              "-0.12198896163060387"
            ]
          },
          "metadata": {
            "tags": []
          },
          "execution_count": 53
        }
      ]
    },
    {
      "cell_type": "code",
      "metadata": {
        "colab": {
          "base_uri": "https://localhost:8080/"
        },
        "id": "CZ5pJftrHgZw",
        "outputId": "807ea483-398f-4105-c184-9985a449ef5d"
      },
      "source": [
        "#The rest of model weights\n",
        "model.coef_[0]"
      ],
      "execution_count": null,
      "outputs": [
        {
          "output_type": "execute_result",
          "data": {
            "text/plain": [
              "array([ 5.63350419e-01, -8.59198889e-02, -5.99419491e-01, -3.02820218e-02,\n",
              "       -9.17069398e-02,  9.99283340e-02, -1.15868311e-01, -1.06048985e-01,\n",
              "       -2.73676855e-02, -9.46212762e-02, -3.23348965e-01,  3.17228314e-01,\n",
              "       -1.15868311e-01,  7.84317450e-04, -1.68096778e-01,  1.27134010e-01,\n",
              "       -8.10261944e-02,  1.35706167e-01, -1.15868311e-01, -1.41826818e-01,\n",
              "        2.57861725e-01, -1.15868311e-01, -2.63982375e-01, -2.12615137e-01,\n",
              "        9.06261753e-02, -4.80303106e-02, -7.39586510e-02, -2.66766308e-02,\n",
              "       -1.36245780e-01,  1.74748490e-01, -1.33815041e-01,  1.27134010e-01,\n",
              "       -2.49122972e-01,  2.97090535e-01, -8.48662760e-02, -1.15868311e-01,\n",
              "        7.87456252e-02, -9.90818957e-02, -1.15868311e-01,  9.29612449e-02,\n",
              "        1.78141046e-01, -1.15868311e-01, -1.84261697e-01, -6.94862417e-02,\n",
              "        4.47681302e-04])"
            ]
          },
          "metadata": {
            "tags": []
          },
          "execution_count": 54
        }
      ]
    },
    {
      "cell_type": "code",
      "metadata": {
        "colab": {
          "base_uri": "https://localhost:8080/"
        },
        "id": "phJBOzRjHqTv",
        "outputId": "239f88f9-7c60-4830-f60d-50e87db931ee"
      },
      "source": [
        "#Map feature names with the weights\n",
        "dict(zip(dv.get_feature_names(), model.coef_[0].round(3)))"
      ],
      "execution_count": null,
      "outputs": [
        {
          "output_type": "execute_result",
          "data": {
            "text/plain": [
              "{'contract=month-to-month': 0.563,\n",
              " 'contract=one_year': -0.086,\n",
              " 'contract=two_year': -0.599,\n",
              " 'dependents=no': -0.03,\n",
              " 'dependents=yes': -0.092,\n",
              " 'deviceprotection=no': 0.1,\n",
              " 'deviceprotection=no_internet_service': -0.116,\n",
              " 'deviceprotection=yes': -0.106,\n",
              " 'gender=female': -0.027,\n",
              " 'gender=male': -0.095,\n",
              " 'internetservice=dsl': -0.323,\n",
              " 'internetservice=fiber_optic': 0.317,\n",
              " 'internetservice=no': -0.116,\n",
              " 'monthlycharges': 0.001,\n",
              " 'multiplelines=no': -0.168,\n",
              " 'multiplelines=no_phone_service': 0.127,\n",
              " 'multiplelines=yes': -0.081,\n",
              " 'onlinebackup=no': 0.136,\n",
              " 'onlinebackup=no_internet_service': -0.116,\n",
              " 'onlinebackup=yes': -0.142,\n",
              " 'onlinesecurity=no': 0.258,\n",
              " 'onlinesecurity=no_internet_service': -0.116,\n",
              " 'onlinesecurity=yes': -0.264,\n",
              " 'paperlessbilling=no': -0.213,\n",
              " 'paperlessbilling=yes': 0.091,\n",
              " 'partner=no': -0.048,\n",
              " 'partner=yes': -0.074,\n",
              " 'paymentmethod=bank_transfer_(automatic)': -0.027,\n",
              " 'paymentmethod=credit_card_(automatic)': -0.136,\n",
              " 'paymentmethod=electronic_check': 0.175,\n",
              " 'paymentmethod=mailed_check': -0.134,\n",
              " 'phoneservice=no': 0.127,\n",
              " 'phoneservice=yes': -0.249,\n",
              " 'seniorcitizen': 0.297,\n",
              " 'streamingmovies=no': -0.085,\n",
              " 'streamingmovies=no_internet_service': -0.116,\n",
              " 'streamingmovies=yes': 0.079,\n",
              " 'streamingtv=no': -0.099,\n",
              " 'streamingtv=no_internet_service': -0.116,\n",
              " 'streamingtv=yes': 0.093,\n",
              " 'techsupport=no': 0.178,\n",
              " 'techsupport=no_internet_service': -0.116,\n",
              " 'techsupport=yes': -0.184,\n",
              " 'tenure': -0.069,\n",
              " 'totalcharges': 0.0}"
            ]
          },
          "metadata": {
            "tags": []
          },
          "execution_count": 55
        }
      ]
    },
    {
      "cell_type": "code",
      "metadata": {
        "colab": {
          "base_uri": "https://localhost:8080/"
        },
        "id": "8B_U7etlX9SK",
        "outputId": "dea0a65e-e5c3-46ba-aa50-19011a7dc154"
      },
      "source": [
        "#To understand the model, lets build a model based on subset of features\n",
        "subset = ['contract', 'tenure', 'totalcharges']\n",
        "train_dict_small = df_train[subset].to_dict(orient='records')\n",
        "dv_small = DictVectorizer(sparse=False)\n",
        "dv_small.fit(train_dict_small)\n",
        "\n",
        "X_small_train = dv_small.transform(train_dict_small)\n",
        "\n",
        "dv_small.get_feature_names()"
      ],
      "execution_count": null,
      "outputs": [
        {
          "output_type": "execute_result",
          "data": {
            "text/plain": [
              "['contract=month-to-month',\n",
              " 'contract=one_year',\n",
              " 'contract=two_year',\n",
              " 'tenure',\n",
              " 'totalcharges']"
            ]
          },
          "metadata": {
            "tags": []
          },
          "execution_count": 56
        }
      ]
    },
    {
      "cell_type": "code",
      "metadata": {
        "colab": {
          "base_uri": "https://localhost:8080/"
        },
        "id": "SBUmXD-Vex9V",
        "outputId": "584486e3-0a9f-4fea-a91c-cf0afc3df05d"
      },
      "source": [
        "model_small = LogisticRegression(solver='liblinear', random_state=1)\n",
        "model_small.fit(X_small_train, y_train) #Notice that y_train stays the same for x_small_train as the labels don't change"
      ],
      "execution_count": null,
      "outputs": [
        {
          "output_type": "execute_result",
          "data": {
            "text/plain": [
              "LogisticRegression(C=1.0, class_weight=None, dual=False, fit_intercept=True,\n",
              "                   intercept_scaling=1, l1_ratio=None, max_iter=100,\n",
              "                   multi_class='auto', n_jobs=None, penalty='l2',\n",
              "                   random_state=1, solver='liblinear', tol=0.0001, verbose=0,\n",
              "                   warm_start=False)"
            ]
          },
          "metadata": {
            "tags": []
          },
          "execution_count": 57
        }
      ]
    },
    {
      "cell_type": "code",
      "metadata": {
        "colab": {
          "base_uri": "https://localhost:8080/"
        },
        "id": "WL-eFEUefb-Z",
        "outputId": "86e9796d-8dd4-4e73-dea9-b32b31c4722b"
      },
      "source": [
        "model_small.intercept_[0] #Just based on this value, the customer will not churn becasue the activation function will switch -0.63 to 0. Negative sign shows class imbalance tilting in favor of 0 (not churning)"
      ],
      "execution_count": null,
      "outputs": [
        {
          "output_type": "execute_result",
          "data": {
            "text/plain": [
              "-0.6387618613273348"
            ]
          },
          "metadata": {
            "tags": []
          },
          "execution_count": 58
        }
      ]
    },
    {
      "cell_type": "code",
      "metadata": {
        "colab": {
          "base_uri": "https://localhost:8080/"
        },
        "id": "gqXTfhWOfjRP",
        "outputId": "cf1f4d52-6128-42c2-9571-102b9320d8bd"
      },
      "source": [
        "dict(zip(dv_small.get_feature_names(), model_small.coef_[0].round(3))) #For a churning customer (with lable =1) with a month to month contract, result will be 0.91 = label of 1 (churning). Same logic applies to other cotracts "
      ],
      "execution_count": null,
      "outputs": [
        {
          "output_type": "execute_result",
          "data": {
            "text/plain": [
              "{'contract=month-to-month': 0.91,\n",
              " 'contract=one_year': -0.144,\n",
              " 'contract=two_year': -1.404,\n",
              " 'tenure': -0.097,\n",
              " 'totalcharges': 0.001}"
            ]
          },
          "metadata": {
            "tags": []
          },
          "execution_count": 59
        }
      ]
    },
    {
      "cell_type": "code",
      "metadata": {
        "id": "9103BYoYjmHH"
      },
      "source": [
        "#Validation dataset\n",
        "val_dict_small = df_val[subset].to_dict(orient='records')\n",
        "X_small_val = dv_small.transform(val_dict_small)"
      ],
      "execution_count": null,
      "outputs": []
    },
    {
      "cell_type": "code",
      "metadata": {
        "id": "7aDie5eZjz6_"
      },
      "source": [
        "y_pred_small = model_small.predict_proba(X_small_val)[:, 1]"
      ],
      "execution_count": null,
      "outputs": []
    },
    {
      "cell_type": "code",
      "metadata": {
        "colab": {
          "base_uri": "https://localhost:8080/"
        },
        "id": "riMMfC5gkHS6",
        "outputId": "46f1b93c-5bc9-4f8b-eb32-59f1d0418de6"
      },
      "source": [
        "y_pred_small"
      ],
      "execution_count": null,
      "outputs": [
        {
          "output_type": "execute_result",
          "data": {
            "text/plain": [
              "array([0.38167308, 0.26380942, 0.17153253, ..., 0.13113125, 0.54615263,\n",
              "       0.03609456])"
            ]
          },
          "metadata": {
            "tags": []
          },
          "execution_count": 62
        }
      ]
    },
    {
      "cell_type": "markdown",
      "metadata": {
        "id": "LsrmXfWZkTeM"
      },
      "source": [
        "Using the model"
      ]
    },
    {
      "cell_type": "code",
      "metadata": {
        "id": "ETTNiCs7kU6Z"
      },
      "source": [
        "#Note that we have pre-processed the customer the same way we had pre-processed data for training (string lowercased and spaces repaced with underscores)\n",
        "customer = {\n",
        "    'customerid': '8879-zkjof',\n",
        "    'gender': 'female',\n",
        "    'seniorcitizen': 0,\n",
        "    'partner': 'no',\n",
        "    'dependents': 'no',\n",
        "    'tenure': 41,\n",
        "    'phoneservice': 'yes',\n",
        "    'multiplelines': 'no',\n",
        "    'internetservice': 'dsl',\n",
        "    'onlinesecurity': 'yes',\n",
        "    'onlinebackup': 'no',\n",
        "    'deviceprotection': 'yes',\n",
        "    'techsupport': 'yes',\n",
        "    'streamingtv': 'yes',\n",
        "    'streamingmovies': 'yes',\n",
        "    'contract': 'one_year',\n",
        "    'paperlessbilling': 'yes',\n",
        "    'paymentmethod': 'bank_transfer_(automatic)',\n",
        "    'monthlycharges': 79.85,\n",
        "    'totalcharges': 3320.75,\n",
        "}"
      ],
      "execution_count": null,
      "outputs": []
    },
    {
      "cell_type": "code",
      "metadata": {
        "colab": {
          "base_uri": "https://localhost:8080/"
        },
        "id": "XqYtTn0ulK7V",
        "outputId": "82d2a862-253f-4722-dcbe-8adfcef6f503"
      },
      "source": [
        "#This customer has only 7% probability of churning\n",
        "test_customer_1 = dv.transform([customer])\n",
        "model.predict_proba(test_customer_1)[0, 1] #Select first row and column 1 (second column)"
      ],
      "execution_count": null,
      "outputs": [
        {
          "output_type": "execute_result",
          "data": {
            "text/plain": [
              "0.07332111085213508"
            ]
          },
          "metadata": {
            "tags": []
          },
          "execution_count": 64
        }
      ]
    },
    {
      "cell_type": "code",
      "metadata": {
        "colab": {
          "base_uri": "https://localhost:8080/"
        },
        "id": "3Kvf84ABnG-h",
        "outputId": "6fd96201-1c4d-43f5-8461-f6433c62f405"
      },
      "source": [
        "print(list(test_customer_1[0])) #One-hot encoded customer with 45 columns. Numerical features are not modified"
      ],
      "execution_count": null,
      "outputs": [
        {
          "output_type": "stream",
          "text": [
            "[0.0, 1.0, 0.0, 1.0, 0.0, 0.0, 0.0, 1.0, 1.0, 0.0, 1.0, 0.0, 0.0, 79.85, 1.0, 0.0, 0.0, 1.0, 0.0, 0.0, 0.0, 0.0, 1.0, 0.0, 1.0, 1.0, 0.0, 1.0, 0.0, 0.0, 0.0, 0.0, 1.0, 0.0, 0.0, 0.0, 1.0, 0.0, 0.0, 1.0, 0.0, 0.0, 1.0, 41.0, 3320.75]\n"
          ],
          "name": "stdout"
        }
      ]
    },
    {
      "cell_type": "code",
      "metadata": {
        "colab": {
          "base_uri": "https://localhost:8080/"
        },
        "id": "X8z4d4SepITK",
        "outputId": "a90e9d65-0a8f-4d18-c60b-d15d2db79838"
      },
      "source": [
        "test_customer_1.shape"
      ],
      "execution_count": null,
      "outputs": [
        {
          "output_type": "execute_result",
          "data": {
            "text/plain": [
              "(1, 45)"
            ]
          },
          "metadata": {
            "tags": []
          },
          "execution_count": 66
        }
      ]
    },
    {
      "cell_type": "code",
      "metadata": {
        "id": "bm2fRQD3pTLc"
      },
      "source": [
        "#Lets test another customer\n",
        "customer = {\n",
        "    'gender': 'female',\n",
        "    'seniorcitizen': 1,\n",
        "    'partner': 'no',\n",
        "    'dependents': 'no',\n",
        "    'phoneservice': 'yes',\n",
        "    'multiplelines': 'yes',\n",
        "    'internetservice': 'fiber_optic',\n",
        "    'onlinesecurity': 'no',\n",
        "    'onlinebackup': 'no',\n",
        "    'deviceprotection': 'no',\n",
        "    'techsupport': 'no',\n",
        "    'streamingtv': 'yes',\n",
        "    'streamingmovies': 'no',\n",
        "    'contract': 'month-to-month',\n",
        "    'paperlessbilling': 'yes',\n",
        "    'paymentmethod': 'electronic_check',\n",
        "    'tenure': 1,\n",
        "    'monthlycharges': 85.7,\n",
        "    'totalcharges': 85.7\n",
        "}"
      ],
      "execution_count": null,
      "outputs": []
    },
    {
      "cell_type": "code",
      "metadata": {
        "colab": {
          "base_uri": "https://localhost:8080/"
        },
        "id": "IsFq8goJpd07",
        "outputId": "6637eaf0-1002-4649-d5b6-314bd6497665"
      },
      "source": [
        "#This customer has 83% likelihood of churning\n",
        "test_customer_2 = dv.transform([customer])\n",
        "model.predict_proba(test_customer_2)[0, 1]"
      ],
      "execution_count": null,
      "outputs": [
        {
          "output_type": "execute_result",
          "data": {
            "text/plain": [
              "0.8321656556545182"
            ]
          },
          "metadata": {
            "tags": []
          },
          "execution_count": 68
        }
      ]
    },
    {
      "cell_type": "markdown",
      "metadata": {
        "id": "AQHSAR4WvIKi"
      },
      "source": [
        "**Classification Metrics**"
      ]
    },
    {
      "cell_type": "markdown",
      "metadata": {
        "id": "U2eEWvQqKYM5"
      },
      "source": [
        "Accuracy"
      ]
    },
    {
      "cell_type": "code",
      "metadata": {
        "id": "zi67VPrdvMjW"
      },
      "source": [
        "from sklearn.metrics import accuracy_score"
      ],
      "execution_count": null,
      "outputs": []
    },
    {
      "cell_type": "code",
      "metadata": {
        "colab": {
          "base_uri": "https://localhost:8080/"
        },
        "id": "yEI2EfdSIsxo",
        "outputId": "cf9100cc-8bcf-487c-dc3a-242b490372f7"
      },
      "source": [
        "accuracy_score(y_val, y_pred >= 0.5)"
      ],
      "execution_count": null,
      "outputs": [
        {
          "output_type": "execute_result",
          "data": {
            "text/plain": [
              "0.8016129032258065"
            ]
          },
          "metadata": {
            "tags": []
          },
          "execution_count": 70
        }
      ]
    },
    {
      "cell_type": "code",
      "metadata": {
        "colab": {
          "base_uri": "https://localhost:8080/"
        },
        "id": "_QiiqQ77LH5W",
        "outputId": "75092354-abbc-4a44-bf9b-2d699d147f41"
      },
      "source": [
        "thresholds = np.linspace(0, 1, 11)\n",
        "thresholds"
      ],
      "execution_count": null,
      "outputs": [
        {
          "output_type": "execute_result",
          "data": {
            "text/plain": [
              "array([0. , 0.1, 0.2, 0.3, 0.4, 0.5, 0.6, 0.7, 0.8, 0.9, 1. ])"
            ]
          },
          "metadata": {
            "tags": []
          },
          "execution_count": 71
        }
      ]
    },
    {
      "cell_type": "code",
      "metadata": {
        "colab": {
          "base_uri": "https://localhost:8080/"
        },
        "id": "SUYuEAR2LQHT",
        "outputId": "514297d2-5d5c-4617-ff16-81fb1571e4b3"
      },
      "source": [
        "thresholds.shape"
      ],
      "execution_count": null,
      "outputs": [
        {
          "output_type": "execute_result",
          "data": {
            "text/plain": [
              "(11,)"
            ]
          },
          "metadata": {
            "tags": []
          },
          "execution_count": 72
        }
      ]
    },
    {
      "cell_type": "code",
      "metadata": {
        "colab": {
          "base_uri": "https://localhost:8080/"
        },
        "id": "APiPl6hWLyEj",
        "outputId": "8cebe910-2787-4359-b763-f281a654f268"
      },
      "source": [
        "thresholds = np.linspace(0, 1, 21)\n",
        "\n",
        "accuracies = []\n",
        "\n",
        "for t in thresholds:\n",
        "    acc = accuracy_score(y_val, y_pred >= t)\n",
        "    accuracies.append(acc)\n",
        "    print(\"Threshold: \"'%0.2f' \" Accuracy: \" '%0.3f' % (t, acc))"
      ],
      "execution_count": null,
      "outputs": [
        {
          "output_type": "stream",
          "text": [
            "Threshold: 0.00 Accuracy: 0.261\n",
            "Threshold: 0.05 Accuracy: 0.501\n",
            "Threshold: 0.10 Accuracy: 0.595\n",
            "Threshold: 0.15 Accuracy: 0.640\n",
            "Threshold: 0.20 Accuracy: 0.690\n",
            "Threshold: 0.25 Accuracy: 0.730\n",
            "Threshold: 0.30 Accuracy: 0.755\n",
            "Threshold: 0.35 Accuracy: 0.767\n",
            "Threshold: 0.40 Accuracy: 0.782\n",
            "Threshold: 0.45 Accuracy: 0.795\n",
            "Threshold: 0.50 Accuracy: 0.802\n",
            "Threshold: 0.55 Accuracy: 0.790\n",
            "Threshold: 0.60 Accuracy: 0.790\n",
            "Threshold: 0.65 Accuracy: 0.788\n",
            "Threshold: 0.70 Accuracy: 0.774\n",
            "Threshold: 0.75 Accuracy: 0.752\n",
            "Threshold: 0.80 Accuracy: 0.742\n",
            "Threshold: 0.85 Accuracy: 0.739\n",
            "Threshold: 0.90 Accuracy: 0.739\n",
            "Threshold: 0.95 Accuracy: 0.739\n",
            "Threshold: 1.00 Accuracy: 0.739\n"
          ],
          "name": "stdout"
        }
      ]
    },
    {
      "cell_type": "code",
      "metadata": {
        "colab": {
          "base_uri": "https://localhost:8080/",
          "height": 295
        },
        "id": "p9W4cqhXRq6v",
        "outputId": "cdc5759c-1295-448f-e9da-d205ca428985"
      },
      "source": [
        "plt.figure(figsize=(6, 4))\n",
        "\n",
        "plt.plot(thresholds, accuracies, color='black')\n",
        "\n",
        "plt.title('Threshold vs Accuracy')\n",
        "plt.xlabel('Threshold')\n",
        "plt.ylabel('Accuracy')\n",
        "\n",
        "plt.xticks(np.linspace(0, 1, 11))\n",
        "\n",
        "# plt.savefig('04_threshold_accuracy.svg')\n",
        "\n",
        "plt.show()"
      ],
      "execution_count": null,
      "outputs": [
        {
          "output_type": "display_data",
          "data": {
            "image/png": "[encoded data removed]",
            "text/plain": [
              "<Figure size 432x288 with 1 Axes>"
            ]
          },
          "metadata": {
            "tags": [],
            "needs_background": "light"
          }
        }
      ]
    },
    {
      "cell_type": "code",
      "metadata": {
        "colab": {
          "base_uri": "https://localhost:8080/"
        },
        "id": "wL9xQjKsVcIJ",
        "outputId": "42abc9fe-4272-497a-f525-80f1a367972e"
      },
      "source": [
        "#Lets check accuracy for the small model\n",
        "churn_small = y_pred_small >= 0.5\n",
        "(churn_small == y_val).mean()"
      ],
      "execution_count": null,
      "outputs": [
        {
          "output_type": "execute_result",
          "data": {
            "text/plain": [
              "0.7672043010752688"
            ]
          },
          "metadata": {
            "tags": []
          },
          "execution_count": 75
        }
      ]
    },
    {
      "cell_type": "code",
      "metadata": {
        "colab": {
          "base_uri": "https://localhost:8080/"
        },
        "id": "ykUYoZp4VqWy",
        "outputId": "21d69027-7c95-4052-e58b-715c973cb735"
      },
      "source": [
        "accuracy_score(y_val, churn_small)"
      ],
      "execution_count": null,
      "outputs": [
        {
          "output_type": "execute_result",
          "data": {
            "text/plain": [
              "0.7672043010752688"
            ]
          },
          "metadata": {
            "tags": []
          },
          "execution_count": 76
        }
      ]
    },
    {
      "cell_type": "code",
      "metadata": {
        "colab": {
          "base_uri": "https://localhost:8080/"
        },
        "id": "KN7XckTeVxu9",
        "outputId": "60d1b2e7-4842-4ce9-d6f3-a4100541b5cb"
      },
      "source": [
        "#To provide some context to the validation dataset accuracy, lets create a dummy baseline that only predicts \"False\". The reason behind this is that majority of the examples in our churn dataset belong to class 0 (False). Thus, if an algorithm classifies only these examples correctly, it may have high accuracy.\n",
        "size_val = len(y_val)\n",
        "baseline = np.repeat(False, size_val)\n",
        "baseline"
      ],
      "execution_count": null,
      "outputs": [
        {
          "output_type": "execute_result",
          "data": {
            "text/plain": [
              "array([False, False, False, ..., False, False, False])"
            ]
          },
          "metadata": {
            "tags": []
          },
          "execution_count": 77
        }
      ]
    },
    {
      "cell_type": "code",
      "metadata": {
        "colab": {
          "base_uri": "https://localhost:8080/"
        },
        "id": "YjpFMAqvYeld",
        "outputId": "cb765956-1af8-4b01-aee6-f2a760a8c9b4"
      },
      "source": [
        "#Check the accuracy of dummy baseline. Note that the accuracy of the dummy baseline where we only have False (0) predicted labels for all examples in dataset, is only slighltly higher than our trained model. Thus, accuracy may not tell us the whole story.\n",
        "accuracy_score(baseline, y_val)"
      ],
      "execution_count": null,
      "outputs": [
        {
          "output_type": "execute_result",
          "data": {
            "text/plain": [
              "0.7387096774193549"
            ]
          },
          "metadata": {
            "tags": []
          },
          "execution_count": 78
        }
      ]
    },
    {
      "cell_type": "markdown",
      "metadata": {
        "id": "rjef4SWRhKnr"
      },
      "source": [
        "Confusion table"
      ]
    },
    {
      "cell_type": "code",
      "metadata": {
        "id": "DtI4g9uJhLjl"
      },
      "source": [
        "true_positive = ((y_pred >= 0.5) & (y_val == 1)).sum() #GOOD: Our prediction is above or eqial to 0.5 and actual label = 1\n",
        "false_positive = ((y_pred >= 0.5) & (y_val == 0)).sum() #BAD: Our prediction is above or eqial to 0.5 and actual label = 0\n",
        "false_negative = ((y_pred < 0.5) & (y_val == 1)).sum() #BAD: Our prediction is below 0.5 and actual label = 1 \n",
        "true_negative = ((y_pred < 0.5) & (y_val == 0)).sum() #GOOD: Our prediction is below 0.5 and actual label = 0"
      ],
      "execution_count": null,
      "outputs": []
    },
    {
      "cell_type": "code",
      "metadata": {
        "colab": {
          "base_uri": "https://localhost:8080/"
        },
        "id": "SVUpAeXLh9BZ",
        "outputId": "4c1a7121-aaef-4ca3-baf6-0a716e6916a3"
      },
      "source": [
        "confusion_table = np.array(\n",
        "     # predict neg    pos\n",
        "    [[true_negative, false_positive], # actual neg\n",
        "     [false_negative, true_positive]]) # actual pos\n",
        "\n",
        "confusion_table"
      ],
      "execution_count": null,
      "outputs": [
        {
          "output_type": "execute_result",
          "data": {
            "text/plain": [
              "array([[1202,  172],\n",
              "       [ 197,  289]])"
            ]
          },
          "metadata": {
            "tags": []
          },
          "execution_count": 80
        }
      ]
    },
    {
      "cell_type": "code",
      "metadata": {
        "colab": {
          "base_uri": "https://localhost:8080/"
        },
        "id": "mUIDOV4AiJTg",
        "outputId": "63926993-4fba-4cd2-e5ab-5c019b7facf3"
      },
      "source": [
        "confusion_table / confusion_table.sum() #65% -> True Negatives, 15% -> True Positives"
      ],
      "execution_count": null,
      "outputs": [
        {
          "output_type": "execute_result",
          "data": {
            "text/plain": [
              "array([[0.64623656, 0.09247312],\n",
              "       [0.10591398, 0.15537634]])"
            ]
          },
          "metadata": {
            "tags": []
          },
          "execution_count": 81
        }
      ]
    },
    {
      "cell_type": "markdown",
      "metadata": {
        "id": "CDapuec0jJy1"
      },
      "source": [
        "Precision and Recall (Calcualted based on confusion table)"
      ]
    },
    {
      "cell_type": "code",
      "metadata": {
        "colab": {
          "base_uri": "https://localhost:8080/"
        },
        "id": "vnSjMAWbjKp4",
        "outputId": "e2b94bcd-9222-4a05-8682-d5907b9f5e3a"
      },
      "source": [
        "precision = true_positive / (true_positive + false_positive)\n",
        "recall = true_positive / (true_positive + false_negative)\n",
        "precision, recall"
      ],
      "execution_count": null,
      "outputs": [
        {
          "output_type": "execute_result",
          "data": {
            "text/plain": [
              "(0.6268980477223427, 0.5946502057613169)"
            ]
          },
          "metadata": {
            "tags": []
          },
          "execution_count": 82
        }
      ]
    },
    {
      "cell_type": "markdown",
      "metadata": {
        "id": "3xlc5JgKnW--"
      },
      "source": [
        "ROC and AUC (We calculated Confusion Table and Precision/Recall based on one threshold. ROC/AUC summarize the performance of the classifier for all possible thresholds): TPR and FPR"
      ]
    },
    {
      "cell_type": "code",
      "metadata": {
        "id": "bge2Jveft28Y"
      },
      "source": [
        "scores = []\n",
        "\n",
        "thresholds = np.linspace(0, 1, 101)\n",
        "\n",
        "for t in thresholds:\n",
        "    tp = ((y_pred >= t) & (y_val == 1)).sum()\n",
        "    fp = ((y_pred >= t) & (y_val == 0)).sum()\n",
        "    fn = ((y_pred < t) & (y_val == 1)).sum()\n",
        "    tn = ((y_pred < t) & (y_val == 0)).sum()\n",
        "    scores.append((t, tp, fp, fn, tn))\n",
        "\n",
        "df_scores = pd.DataFrame(scores)\n",
        "df_scores.columns = ['threshold', 'tp', 'fp', 'fn', 'tn']"
      ],
      "execution_count": null,
      "outputs": []
    },
    {
      "cell_type": "code",
      "metadata": {
        "colab": {
          "base_uri": "https://localhost:8080/"
        },
        "id": "WNaMxh0fxe5j",
        "outputId": "c823a43c-8469-475a-ea9b-ae9ac6acd52a"
      },
      "source": [
        "scores[:10]"
      ],
      "execution_count": null,
      "outputs": [
        {
          "output_type": "execute_result",
          "data": {
            "text/plain": [
              "[(0.0, 486, 1374, 0, 0),\n",
              " (0.01, 483, 1190, 3, 184),\n",
              " (0.02, 481, 1074, 5, 300),\n",
              " (0.03, 478, 1011, 8, 363),\n",
              " (0.04, 478, 970, 8, 404),\n",
              " (0.05, 475, 917, 11, 457),\n",
              " (0.06, 474, 879, 12, 495),\n",
              " (0.07, 469, 837, 17, 537),\n",
              " (0.08, 469, 799, 17, 575),\n",
              " (0.09, 462, 764, 24, 610)]"
            ]
          },
          "metadata": {
            "tags": []
          },
          "execution_count": 84
        }
      ]
    },
    {
      "cell_type": "code",
      "metadata": {
        "colab": {
          "base_uri": "https://localhost:8080/",
          "height": 390
        },
        "id": "-88QZuNDxl7v",
        "outputId": "27e65e65-b6a8-4881-cfb6-e98519ba20d6"
      },
      "source": [
        "df_scores[::10] #Select every 10th row of the dataframe"
      ],
      "execution_count": null,
      "outputs": [
        {
          "output_type": "execute_result",
          "data": {
            "text/html": [
              "<div>\n",
              "<style scoped>\n",
              "    .dataframe tbody tr th:only-of-type {\n",
              "        vertical-align: middle;\n",
              "    }\n",
              "\n",
              "    .dataframe tbody tr th {\n",
              "        vertical-align: top;\n",
              "    }\n",
              "\n",
              "    .dataframe thead th {\n",
              "        text-align: right;\n",
              "    }\n",
              "</style>\n",
              "<table border=\"1\" class=\"dataframe\">\n",
              "  <thead>\n",
              "    <tr style=\"text-align: right;\">\n",
              "      <th></th>\n",
              "      <th>threshold</th>\n",
              "      <th>tp</th>\n",
              "      <th>fp</th>\n",
              "      <th>fn</th>\n",
              "      <th>tn</th>\n",
              "    </tr>\n",
              "  </thead>\n",
              "  <tbody>\n",
              "    <tr>\n",
              "      <th>0</th>\n",
              "      <td>0.0</td>\n",
              "      <td>486</td>\n",
              "      <td>1374</td>\n",
              "      <td>0</td>\n",
              "      <td>0</td>\n",
              "    </tr>\n",
              "    <tr>\n",
              "      <th>10</th>\n",
              "      <td>0.1</td>\n",
              "      <td>458</td>\n",
              "      <td>726</td>\n",
              "      <td>28</td>\n",
              "      <td>648</td>\n",
              "    </tr>\n",
              "    <tr>\n",
              "      <th>20</th>\n",
              "      <td>0.2</td>\n",
              "      <td>421</td>\n",
              "      <td>512</td>\n",
              "      <td>65</td>\n",
              "      <td>862</td>\n",
              "    </tr>\n",
              "    <tr>\n",
              "      <th>30</th>\n",
              "      <td>0.3</td>\n",
              "      <td>380</td>\n",
              "      <td>350</td>\n",
              "      <td>106</td>\n",
              "      <td>1024</td>\n",
              "    </tr>\n",
              "    <tr>\n",
              "      <th>40</th>\n",
              "      <td>0.4</td>\n",
              "      <td>337</td>\n",
              "      <td>257</td>\n",
              "      <td>149</td>\n",
              "      <td>1117</td>\n",
              "    </tr>\n",
              "    <tr>\n",
              "      <th>50</th>\n",
              "      <td>0.5</td>\n",
              "      <td>289</td>\n",
              "      <td>172</td>\n",
              "      <td>197</td>\n",
              "      <td>1202</td>\n",
              "    </tr>\n",
              "    <tr>\n",
              "      <th>60</th>\n",
              "      <td>0.6</td>\n",
              "      <td>200</td>\n",
              "      <td>105</td>\n",
              "      <td>286</td>\n",
              "      <td>1269</td>\n",
              "    </tr>\n",
              "    <tr>\n",
              "      <th>70</th>\n",
              "      <td>0.7</td>\n",
              "      <td>99</td>\n",
              "      <td>34</td>\n",
              "      <td>387</td>\n",
              "      <td>1340</td>\n",
              "    </tr>\n",
              "    <tr>\n",
              "      <th>80</th>\n",
              "      <td>0.8</td>\n",
              "      <td>7</td>\n",
              "      <td>1</td>\n",
              "      <td>479</td>\n",
              "      <td>1373</td>\n",
              "    </tr>\n",
              "    <tr>\n",
              "      <th>90</th>\n",
              "      <td>0.9</td>\n",
              "      <td>0</td>\n",
              "      <td>0</td>\n",
              "      <td>486</td>\n",
              "      <td>1374</td>\n",
              "    </tr>\n",
              "    <tr>\n",
              "      <th>100</th>\n",
              "      <td>1.0</td>\n",
              "      <td>0</td>\n",
              "      <td>0</td>\n",
              "      <td>486</td>\n",
              "      <td>1374</td>\n",
              "    </tr>\n",
              "  </tbody>\n",
              "</table>\n",
              "</div>"
            ],
            "text/plain": [
              "     threshold   tp    fp   fn    tn\n",
              "0          0.0  486  1374    0     0\n",
              "10         0.1  458   726   28   648\n",
              "20         0.2  421   512   65   862\n",
              "30         0.3  380   350  106  1024\n",
              "40         0.4  337   257  149  1117\n",
              "50         0.5  289   172  197  1202\n",
              "60         0.6  200   105  286  1269\n",
              "70         0.7   99    34  387  1340\n",
              "80         0.8    7     1  479  1373\n",
              "90         0.9    0     0  486  1374\n",
              "100        1.0    0     0  486  1374"
            ]
          },
          "metadata": {
            "tags": []
          },
          "execution_count": 85
        }
      ]
    },
    {
      "cell_type": "code",
      "metadata": {
        "id": "-wyXThfR0BjD"
      },
      "source": [
        "df_scores['tpr'] = df_scores.tp / (df_scores.tp + df_scores.fn) #True Positive Rate\n",
        "df_scores['fpr'] = df_scores.fp / (df_scores.fp + df_scores.tn) #False Positive Rate"
      ],
      "execution_count": null,
      "outputs": []
    },
    {
      "cell_type": "code",
      "metadata": {
        "colab": {
          "base_uri": "https://localhost:8080/",
          "height": 390
        },
        "id": "u0bkUmCw0uIm",
        "outputId": "214b25e8-f67d-40be-8454-5ad7b6584457"
      },
      "source": [
        "df_scores[::10] #Notice that we are calculating TPR and FPR at all thresholds"
      ],
      "execution_count": null,
      "outputs": [
        {
          "output_type": "execute_result",
          "data": {
            "text/html": [
              "<div>\n",
              "<style scoped>\n",
              "    .dataframe tbody tr th:only-of-type {\n",
              "        vertical-align: middle;\n",
              "    }\n",
              "\n",
              "    .dataframe tbody tr th {\n",
              "        vertical-align: top;\n",
              "    }\n",
              "\n",
              "    .dataframe thead th {\n",
              "        text-align: right;\n",
              "    }\n",
              "</style>\n",
              "<table border=\"1\" class=\"dataframe\">\n",
              "  <thead>\n",
              "    <tr style=\"text-align: right;\">\n",
              "      <th></th>\n",
              "      <th>threshold</th>\n",
              "      <th>tp</th>\n",
              "      <th>fp</th>\n",
              "      <th>fn</th>\n",
              "      <th>tn</th>\n",
              "      <th>tpr</th>\n",
              "      <th>fpr</th>\n",
              "    </tr>\n",
              "  </thead>\n",
              "  <tbody>\n",
              "    <tr>\n",
              "      <th>0</th>\n",
              "      <td>0.0</td>\n",
              "      <td>486</td>\n",
              "      <td>1374</td>\n",
              "      <td>0</td>\n",
              "      <td>0</td>\n",
              "      <td>1.000000</td>\n",
              "      <td>1.000000</td>\n",
              "    </tr>\n",
              "    <tr>\n",
              "      <th>10</th>\n",
              "      <td>0.1</td>\n",
              "      <td>458</td>\n",
              "      <td>726</td>\n",
              "      <td>28</td>\n",
              "      <td>648</td>\n",
              "      <td>0.942387</td>\n",
              "      <td>0.528384</td>\n",
              "    </tr>\n",
              "    <tr>\n",
              "      <th>20</th>\n",
              "      <td>0.2</td>\n",
              "      <td>421</td>\n",
              "      <td>512</td>\n",
              "      <td>65</td>\n",
              "      <td>862</td>\n",
              "      <td>0.866255</td>\n",
              "      <td>0.372635</td>\n",
              "    </tr>\n",
              "    <tr>\n",
              "      <th>30</th>\n",
              "      <td>0.3</td>\n",
              "      <td>380</td>\n",
              "      <td>350</td>\n",
              "      <td>106</td>\n",
              "      <td>1024</td>\n",
              "      <td>0.781893</td>\n",
              "      <td>0.254731</td>\n",
              "    </tr>\n",
              "    <tr>\n",
              "      <th>40</th>\n",
              "      <td>0.4</td>\n",
              "      <td>337</td>\n",
              "      <td>257</td>\n",
              "      <td>149</td>\n",
              "      <td>1117</td>\n",
              "      <td>0.693416</td>\n",
              "      <td>0.187045</td>\n",
              "    </tr>\n",
              "    <tr>\n",
              "      <th>50</th>\n",
              "      <td>0.5</td>\n",
              "      <td>289</td>\n",
              "      <td>172</td>\n",
              "      <td>197</td>\n",
              "      <td>1202</td>\n",
              "      <td>0.594650</td>\n",
              "      <td>0.125182</td>\n",
              "    </tr>\n",
              "    <tr>\n",
              "      <th>60</th>\n",
              "      <td>0.6</td>\n",
              "      <td>200</td>\n",
              "      <td>105</td>\n",
              "      <td>286</td>\n",
              "      <td>1269</td>\n",
              "      <td>0.411523</td>\n",
              "      <td>0.076419</td>\n",
              "    </tr>\n",
              "    <tr>\n",
              "      <th>70</th>\n",
              "      <td>0.7</td>\n",
              "      <td>99</td>\n",
              "      <td>34</td>\n",
              "      <td>387</td>\n",
              "      <td>1340</td>\n",
              "      <td>0.203704</td>\n",
              "      <td>0.024745</td>\n",
              "    </tr>\n",
              "    <tr>\n",
              "      <th>80</th>\n",
              "      <td>0.8</td>\n",
              "      <td>7</td>\n",
              "      <td>1</td>\n",
              "      <td>479</td>\n",
              "      <td>1373</td>\n",
              "      <td>0.014403</td>\n",
              "      <td>0.000728</td>\n",
              "    </tr>\n",
              "    <tr>\n",
              "      <th>90</th>\n",
              "      <td>0.9</td>\n",
              "      <td>0</td>\n",
              "      <td>0</td>\n",
              "      <td>486</td>\n",
              "      <td>1374</td>\n",
              "      <td>0.000000</td>\n",
              "      <td>0.000000</td>\n",
              "    </tr>\n",
              "    <tr>\n",
              "      <th>100</th>\n",
              "      <td>1.0</td>\n",
              "      <td>0</td>\n",
              "      <td>0</td>\n",
              "      <td>486</td>\n",
              "      <td>1374</td>\n",
              "      <td>0.000000</td>\n",
              "      <td>0.000000</td>\n",
              "    </tr>\n",
              "  </tbody>\n",
              "</table>\n",
              "</div>"
            ],
            "text/plain": [
              "     threshold   tp    fp   fn    tn       tpr       fpr\n",
              "0          0.0  486  1374    0     0  1.000000  1.000000\n",
              "10         0.1  458   726   28   648  0.942387  0.528384\n",
              "20         0.2  421   512   65   862  0.866255  0.372635\n",
              "30         0.3  380   350  106  1024  0.781893  0.254731\n",
              "40         0.4  337   257  149  1117  0.693416  0.187045\n",
              "50         0.5  289   172  197  1202  0.594650  0.125182\n",
              "60         0.6  200   105  286  1269  0.411523  0.076419\n",
              "70         0.7   99    34  387  1340  0.203704  0.024745\n",
              "80         0.8    7     1  479  1373  0.014403  0.000728\n",
              "90         0.9    0     0  486  1374  0.000000  0.000000\n",
              "100        1.0    0     0  486  1374  0.000000  0.000000"
            ]
          },
          "metadata": {
            "tags": []
          },
          "execution_count": 87
        }
      ]
    },
    {
      "cell_type": "code",
      "metadata": {
        "colab": {
          "base_uri": "https://localhost:8080/",
          "height": 295
        },
        "id": "8RevWEBF07d_",
        "outputId": "275e9ba6-565a-4ac9-9a3c-084641f851c7"
      },
      "source": [
        "plt.figure(figsize=(6, 4))\n",
        "\n",
        "plt.plot(df_scores.threshold, df_scores.tpr, color='black', linestyle='solid', label='TPR')\n",
        "plt.plot(df_scores.threshold, df_scores.fpr, color='black', linestyle='dashed', label='FPR')\n",
        "plt.legend()\n",
        "\n",
        "plt.xticks(np.linspace(0, 1, 11))\n",
        "plt.yticks(np.linspace(0, 1, 11))\n",
        "\n",
        "plt.xlabel('Thresholds')\n",
        "plt.title('TPR and FPR')\n",
        "\n",
        "# plt.savefig('04_fpr_tpr_plot.svg')\n",
        "\n",
        "plt.show()"
      ],
      "execution_count": null,
      "outputs": [
        {
          "output_type": "display_data",
          "data": {
            "image/png": "[encoded data removed]",
            "text/plain": [
              "<Figure size 432x288 with 1 Axes>"
            ]
          },
          "metadata": {
            "tags": [],
            "needs_background": "light"
          }
        }
      ]
    },
    {
      "cell_type": "markdown",
      "metadata": {
        "id": "PTOIOxehUJjL"
      },
      "source": [
        "Random baseline"
      ]
    },
    {
      "cell_type": "code",
      "metadata": {
        "id": "g4-uaeUHUKmt"
      },
      "source": [
        "#This code was written previously (see above) and now just encapsulated in a function\n",
        "def tpr_fpr_dataframe(y_val, y_pred):\n",
        "    scores = []\n",
        "\n",
        "    thresholds = np.linspace(0, 1, 101)\n",
        "\n",
        "    for t in thresholds:\n",
        "        tp = ((y_pred >= t) & (y_val == 1)).sum() #Predicted to be above/equl to the threshold and positive in the dataset\n",
        "        fp = ((y_pred >= t) & (y_val == 0)).sum() #Predicted to be above/equal to the threshold but negative in the dataset\n",
        "        fn = ((y_pred < t) & (y_val == 1)).sum() #Predicted to be below the threshold but positive in the dataset\n",
        "        tn = ((y_pred < t) & (y_val == 0)).sum() #Predicted to be below the threshold and negative in the dataset\n",
        "\n",
        "        scores.append((t, tp, fp, fn, tn))\n",
        "\n",
        "    df_scores = pd.DataFrame(scores)\n",
        "    df_scores.columns = ['threshold', 'tp', 'fp', 'fn', 'tn']\n",
        "\n",
        "    df_scores['tpr'] = df_scores.tp / (df_scores.tp + df_scores.fn)\n",
        "    df_scores['fpr'] = df_scores.fp / (df_scores.fp + df_scores.tn)\n",
        "\n",
        "    return df_scores"
      ],
      "execution_count": null,
      "outputs": []
    },
    {
      "cell_type": "code",
      "metadata": {
        "colab": {
          "base_uri": "https://localhost:8080/",
          "height": 390
        },
        "id": "36Z4Kw6RVcXt",
        "outputId": "bec91669-0260-4db5-d92d-c2778a6d9cfc"
      },
      "source": [
        "np.random.seed(1) #Fix the random seed for reproducibility.\n",
        "y_rand = np.random.uniform(0, 1, size=len(y_val)) #Generate an array with random numbers between 0 and 1. We pretend that y_rand contains the predictions for our model\n",
        "df_rand = tpr_fpr_dataframe(y_val, y_rand) #Call the function tpr_fpr_dataframe()\n",
        "df_rand[::10]"
      ],
      "execution_count": null,
      "outputs": [
        {
          "output_type": "execute_result",
          "data": {
            "text/html": [
              "<div>\n",
              "<style scoped>\n",
              "    .dataframe tbody tr th:only-of-type {\n",
              "        vertical-align: middle;\n",
              "    }\n",
              "\n",
              "    .dataframe tbody tr th {\n",
              "        vertical-align: top;\n",
              "    }\n",
              "\n",
              "    .dataframe thead th {\n",
              "        text-align: right;\n",
              "    }\n",
              "</style>\n",
              "<table border=\"1\" class=\"dataframe\">\n",
              "  <thead>\n",
              "    <tr style=\"text-align: right;\">\n",
              "      <th></th>\n",
              "      <th>threshold</th>\n",
              "      <th>tp</th>\n",
              "      <th>fp</th>\n",
              "      <th>fn</th>\n",
              "      <th>tn</th>\n",
              "      <th>tpr</th>\n",
              "      <th>fpr</th>\n",
              "    </tr>\n",
              "  </thead>\n",
              "  <tbody>\n",
              "    <tr>\n",
              "      <th>0</th>\n",
              "      <td>0.0</td>\n",
              "      <td>486</td>\n",
              "      <td>1374</td>\n",
              "      <td>0</td>\n",
              "      <td>0</td>\n",
              "      <td>1.000000</td>\n",
              "      <td>1.000000</td>\n",
              "    </tr>\n",
              "    <tr>\n",
              "      <th>10</th>\n",
              "      <td>0.1</td>\n",
              "      <td>440</td>\n",
              "      <td>1236</td>\n",
              "      <td>46</td>\n",
              "      <td>138</td>\n",
              "      <td>0.905350</td>\n",
              "      <td>0.899563</td>\n",
              "    </tr>\n",
              "    <tr>\n",
              "      <th>20</th>\n",
              "      <td>0.2</td>\n",
              "      <td>392</td>\n",
              "      <td>1101</td>\n",
              "      <td>94</td>\n",
              "      <td>273</td>\n",
              "      <td>0.806584</td>\n",
              "      <td>0.801310</td>\n",
              "    </tr>\n",
              "    <tr>\n",
              "      <th>30</th>\n",
              "      <td>0.3</td>\n",
              "      <td>339</td>\n",
              "      <td>972</td>\n",
              "      <td>147</td>\n",
              "      <td>402</td>\n",
              "      <td>0.697531</td>\n",
              "      <td>0.707424</td>\n",
              "    </tr>\n",
              "    <tr>\n",
              "      <th>40</th>\n",
              "      <td>0.4</td>\n",
              "      <td>288</td>\n",
              "      <td>849</td>\n",
              "      <td>198</td>\n",
              "      <td>525</td>\n",
              "      <td>0.592593</td>\n",
              "      <td>0.617904</td>\n",
              "    </tr>\n",
              "    <tr>\n",
              "      <th>50</th>\n",
              "      <td>0.5</td>\n",
              "      <td>239</td>\n",
              "      <td>723</td>\n",
              "      <td>247</td>\n",
              "      <td>651</td>\n",
              "      <td>0.491770</td>\n",
              "      <td>0.526201</td>\n",
              "    </tr>\n",
              "    <tr>\n",
              "      <th>60</th>\n",
              "      <td>0.6</td>\n",
              "      <td>193</td>\n",
              "      <td>579</td>\n",
              "      <td>293</td>\n",
              "      <td>795</td>\n",
              "      <td>0.397119</td>\n",
              "      <td>0.421397</td>\n",
              "    </tr>\n",
              "    <tr>\n",
              "      <th>70</th>\n",
              "      <td>0.7</td>\n",
              "      <td>152</td>\n",
              "      <td>422</td>\n",
              "      <td>334</td>\n",
              "      <td>952</td>\n",
              "      <td>0.312757</td>\n",
              "      <td>0.307132</td>\n",
              "    </tr>\n",
              "    <tr>\n",
              "      <th>80</th>\n",
              "      <td>0.8</td>\n",
              "      <td>98</td>\n",
              "      <td>302</td>\n",
              "      <td>388</td>\n",
              "      <td>1072</td>\n",
              "      <td>0.201646</td>\n",
              "      <td>0.219796</td>\n",
              "    </tr>\n",
              "    <tr>\n",
              "      <th>90</th>\n",
              "      <td>0.9</td>\n",
              "      <td>57</td>\n",
              "      <td>147</td>\n",
              "      <td>429</td>\n",
              "      <td>1227</td>\n",
              "      <td>0.117284</td>\n",
              "      <td>0.106987</td>\n",
              "    </tr>\n",
              "    <tr>\n",
              "      <th>100</th>\n",
              "      <td>1.0</td>\n",
              "      <td>0</td>\n",
              "      <td>0</td>\n",
              "      <td>486</td>\n",
              "      <td>1374</td>\n",
              "      <td>0.000000</td>\n",
              "      <td>0.000000</td>\n",
              "    </tr>\n",
              "  </tbody>\n",
              "</table>\n",
              "</div>"
            ],
            "text/plain": [
              "     threshold   tp    fp   fn    tn       tpr       fpr\n",
              "0          0.0  486  1374    0     0  1.000000  1.000000\n",
              "10         0.1  440  1236   46   138  0.905350  0.899563\n",
              "20         0.2  392  1101   94   273  0.806584  0.801310\n",
              "30         0.3  339   972  147   402  0.697531  0.707424\n",
              "40         0.4  288   849  198   525  0.592593  0.617904\n",
              "50         0.5  239   723  247   651  0.491770  0.526201\n",
              "60         0.6  193   579  293   795  0.397119  0.421397\n",
              "70         0.7  152   422  334   952  0.312757  0.307132\n",
              "80         0.8   98   302  388  1072  0.201646  0.219796\n",
              "90         0.9   57   147  429  1227  0.117284  0.106987\n",
              "100        1.0    0     0  486  1374  0.000000  0.000000"
            ]
          },
          "metadata": {
            "tags": []
          },
          "execution_count": 90
        }
      ]
    },
    {
      "cell_type": "code",
      "metadata": {
        "colab": {
          "base_uri": "https://localhost:8080/",
          "height": 295
        },
        "id": "ZuKvBD55eTsH",
        "outputId": "f0c3786e-12b4-4945-8af2-fc49cf58f316"
      },
      "source": [
        "\n",
        "plt.figure(figsize=(6, 4))\n",
        "\n",
        "plt.plot(df_rand.threshold, df_rand.tpr, color='black', linestyle='solid', label='TPR')\n",
        "plt.plot(df_rand.threshold, df_rand.fpr, color='black', linestyle='dashed', label='FPR')\n",
        "plt.legend()\n",
        "\n",
        "plt.xticks(np.linspace(0, 1, 11))\n",
        "plt.yticks(np.linspace(0, 1, 11))\n",
        "\n",
        "plt.xlabel('Thresholds')\n",
        "plt.title('TPR and FPR for the random model')\n",
        "\n",
        "#plt.savefig('04_fpr_tpr_plot_random.svg')\n",
        "\n",
        "plt.show()"
      ],
      "execution_count": null,
      "outputs": [
        {
          "output_type": "display_data",
          "data": {
            "image/png": "[encoded data removed]",
            "text/plain": [
              "<Figure size 432x288 with 1 Axes>"
            ]
          },
          "metadata": {
            "tags": [],
            "needs_background": "light"
          }
        }
      ]
    },
    {
      "cell_type": "markdown",
      "metadata": {
        "id": "rQm2qKAduo3G"
      },
      "source": [
        "Ideal baseline"
      ]
    },
    {
      "cell_type": "code",
      "metadata": {
        "colab": {
          "base_uri": "https://localhost:8080/",
          "height": 390
        },
        "id": "B8ZJqsIcutYN",
        "outputId": "850a1ec6-9048-4586-c595-0014bf900ae5"
      },
      "source": [
        "#The ideal model always makes correct decisions\n",
        "num_neg = (y_val == 0).sum() #Calculate the number of negative examples in the dataset.\n",
        "num_pos = (y_val == 1).sum() ##Calculate the number of positive examples in the dataset.\n",
        "\n",
        "y_ideal = np.repeat([0, 1], [num_neg, num_pos]) #Generate an array that first repeats 0s num_neg number of times, followed by 1s repeated num_pos number of times.\n",
        "y_pred_ideal = np.linspace(0, 1, num_neg + num_pos) #Generate the predictions of the \"model\": numbers that grow from 0 in the first cell to 1 in the last.\n",
        "\n",
        "df_ideal = tpr_fpr_dataframe(y_ideal, y_pred_ideal) #Call tpr_fpr_dataframe()\n",
        "df_ideal[::10]"
      ],
      "execution_count": null,
      "outputs": [
        {
          "output_type": "execute_result",
          "data": {
            "text/html": [
              "<div>\n",
              "<style scoped>\n",
              "    .dataframe tbody tr th:only-of-type {\n",
              "        vertical-align: middle;\n",
              "    }\n",
              "\n",
              "    .dataframe tbody tr th {\n",
              "        vertical-align: top;\n",
              "    }\n",
              "\n",
              "    .dataframe thead th {\n",
              "        text-align: right;\n",
              "    }\n",
              "</style>\n",
              "<table border=\"1\" class=\"dataframe\">\n",
              "  <thead>\n",
              "    <tr style=\"text-align: right;\">\n",
              "      <th></th>\n",
              "      <th>threshold</th>\n",
              "      <th>tp</th>\n",
              "      <th>fp</th>\n",
              "      <th>fn</th>\n",
              "      <th>tn</th>\n",
              "      <th>tpr</th>\n",
              "      <th>fpr</th>\n",
              "    </tr>\n",
              "  </thead>\n",
              "  <tbody>\n",
              "    <tr>\n",
              "      <th>0</th>\n",
              "      <td>0.0</td>\n",
              "      <td>486</td>\n",
              "      <td>1374</td>\n",
              "      <td>0</td>\n",
              "      <td>0</td>\n",
              "      <td>1.000000</td>\n",
              "      <td>1.000000</td>\n",
              "    </tr>\n",
              "    <tr>\n",
              "      <th>10</th>\n",
              "      <td>0.1</td>\n",
              "      <td>486</td>\n",
              "      <td>1188</td>\n",
              "      <td>0</td>\n",
              "      <td>186</td>\n",
              "      <td>1.000000</td>\n",
              "      <td>0.864629</td>\n",
              "    </tr>\n",
              "    <tr>\n",
              "      <th>20</th>\n",
              "      <td>0.2</td>\n",
              "      <td>486</td>\n",
              "      <td>1002</td>\n",
              "      <td>0</td>\n",
              "      <td>372</td>\n",
              "      <td>1.000000</td>\n",
              "      <td>0.729258</td>\n",
              "    </tr>\n",
              "    <tr>\n",
              "      <th>30</th>\n",
              "      <td>0.3</td>\n",
              "      <td>486</td>\n",
              "      <td>816</td>\n",
              "      <td>0</td>\n",
              "      <td>558</td>\n",
              "      <td>1.000000</td>\n",
              "      <td>0.593886</td>\n",
              "    </tr>\n",
              "    <tr>\n",
              "      <th>40</th>\n",
              "      <td>0.4</td>\n",
              "      <td>486</td>\n",
              "      <td>630</td>\n",
              "      <td>0</td>\n",
              "      <td>744</td>\n",
              "      <td>1.000000</td>\n",
              "      <td>0.458515</td>\n",
              "    </tr>\n",
              "    <tr>\n",
              "      <th>50</th>\n",
              "      <td>0.5</td>\n",
              "      <td>486</td>\n",
              "      <td>444</td>\n",
              "      <td>0</td>\n",
              "      <td>930</td>\n",
              "      <td>1.000000</td>\n",
              "      <td>0.323144</td>\n",
              "    </tr>\n",
              "    <tr>\n",
              "      <th>60</th>\n",
              "      <td>0.6</td>\n",
              "      <td>486</td>\n",
              "      <td>258</td>\n",
              "      <td>0</td>\n",
              "      <td>1116</td>\n",
              "      <td>1.000000</td>\n",
              "      <td>0.187773</td>\n",
              "    </tr>\n",
              "    <tr>\n",
              "      <th>70</th>\n",
              "      <td>0.7</td>\n",
              "      <td>486</td>\n",
              "      <td>72</td>\n",
              "      <td>0</td>\n",
              "      <td>1302</td>\n",
              "      <td>1.000000</td>\n",
              "      <td>0.052402</td>\n",
              "    </tr>\n",
              "    <tr>\n",
              "      <th>80</th>\n",
              "      <td>0.8</td>\n",
              "      <td>372</td>\n",
              "      <td>0</td>\n",
              "      <td>114</td>\n",
              "      <td>1374</td>\n",
              "      <td>0.765432</td>\n",
              "      <td>0.000000</td>\n",
              "    </tr>\n",
              "    <tr>\n",
              "      <th>90</th>\n",
              "      <td>0.9</td>\n",
              "      <td>186</td>\n",
              "      <td>0</td>\n",
              "      <td>300</td>\n",
              "      <td>1374</td>\n",
              "      <td>0.382716</td>\n",
              "      <td>0.000000</td>\n",
              "    </tr>\n",
              "    <tr>\n",
              "      <th>100</th>\n",
              "      <td>1.0</td>\n",
              "      <td>1</td>\n",
              "      <td>0</td>\n",
              "      <td>485</td>\n",
              "      <td>1374</td>\n",
              "      <td>0.002058</td>\n",
              "      <td>0.000000</td>\n",
              "    </tr>\n",
              "  </tbody>\n",
              "</table>\n",
              "</div>"
            ],
            "text/plain": [
              "     threshold   tp    fp   fn    tn       tpr       fpr\n",
              "0          0.0  486  1374    0     0  1.000000  1.000000\n",
              "10         0.1  486  1188    0   186  1.000000  0.864629\n",
              "20         0.2  486  1002    0   372  1.000000  0.729258\n",
              "30         0.3  486   816    0   558  1.000000  0.593886\n",
              "40         0.4  486   630    0   744  1.000000  0.458515\n",
              "50         0.5  486   444    0   930  1.000000  0.323144\n",
              "60         0.6  486   258    0  1116  1.000000  0.187773\n",
              "70         0.7  486    72    0  1302  1.000000  0.052402\n",
              "80         0.8  372     0  114  1374  0.765432  0.000000\n",
              "90         0.9  186     0  300  1374  0.382716  0.000000\n",
              "100        1.0    1     0  485  1374  0.002058  0.000000"
            ]
          },
          "metadata": {
            "tags": []
          },
          "execution_count": 92
        }
      ]
    },
    {
      "cell_type": "code",
      "metadata": {
        "colab": {
          "base_uri": "https://localhost:8080/",
          "height": 295
        },
        "id": "JUOrdl3U5Bz8",
        "outputId": "c3e0b2c2-d6aa-48f5-c984-0587a95d89c2"
      },
      "source": [
        "plt.figure(figsize=(6, 4))\n",
        "\n",
        "plt.plot(df_ideal.threshold, df_ideal.tpr, color='black', linestyle='solid', label='TPR')\n",
        "plt.plot(df_ideal.threshold, df_ideal.fpr, color='black', linestyle='dashed', label='FPR')\n",
        "plt.legend()\n",
        "\n",
        "plt.xticks(np.linspace(0, 1, 11))\n",
        "plt.yticks(np.linspace(0, 1, 11))\n",
        "\n",
        "plt.vlines(1 - y_val.mean(), -1, 2, linewidth=0.5, linestyle='dashed', color='grey')\n",
        "plt.ylim(-0.03, 1.03)\n",
        "\n",
        "plt.xlabel('Thresholds')\n",
        "plt.title('TPR and FPR for the ideal model')\n",
        "\n",
        "# plt.savefig('04_fpr_tpr_plot_ideal.svg')\n",
        "\n",
        "plt.show()"
      ],
      "execution_count": null,
      "outputs": [
        {
          "output_type": "display_data",
          "data": {
            "image/png": "[encoded data removed]",
            "text/plain": [
              "<Figure size 432x288 with 1 Axes>"
            ]
          },
          "metadata": {
            "tags": [],
            "needs_background": "light"
          }
        }
      ]
    },
    {
      "cell_type": "code",
      "metadata": {
        "colab": {
          "base_uri": "https://localhost:8080/",
          "height": 350
        },
        "id": "zruKVuKv6bQH",
        "outputId": "73fe62d3-a733-4ad7-9ecd-24c06749667a"
      },
      "source": [
        "#ROC curve: We are plotting the ROC curve (combination of TPR/FPR) for each of the three models.\n",
        "plt.figure(figsize=(5, 5))\n",
        "\n",
        "plt.plot(df_scores.fpr, df_scores.tpr, color='black', label='Model') #Our model\n",
        "plt.plot(df_rand.fpr, df_rand.tpr, color='black', lw=1,\n",
        "         linestyle='dashed', alpha=0.5, label='Random') #Random model\n",
        "plt.plot(df_ideal.fpr, df_ideal.tpr, color='black', lw=0.5,\n",
        "         linestyle='solid', alpha=0.5, label='Ideal')  #Ideal model\n",
        "\n",
        "plt.legend()\n",
        "\n",
        "plt.xlim([-0.02, 1.02])\n",
        "plt.ylim([-0.02, 1.02])\n",
        "plt.xlabel('False Positive Rate')\n",
        "plt.ylabel('True Positive Rate')\n",
        "\n",
        "plt.title('ROC curve')\n",
        "\n",
        "# plt.savefig('04_roc_curve_with_baselines.svg')\n",
        "\n",
        "plt.show()"
      ],
      "execution_count": null,
      "outputs": [
        {
          "output_type": "display_data",
          "data": {
            "image/png": "[encoded data removed]",
            "text/plain": [
              "<Figure size 360x360 with 1 Axes>"
            ]
          },
          "metadata": {
            "tags": [],
            "needs_background": "light"
          }
        }
      ]
    },
    {
      "cell_type": "code",
      "metadata": {
        "colab": {
          "base_uri": "https://localhost:8080/",
          "height": 350
        },
        "id": "TA2_A9mE89g_",
        "outputId": "56508c5f-349c-49e0-c50e-7ac5a72a46ac"
      },
      "source": [
        "#We already know what the ideal model looks like. We can also draw a line in the middle for reference in addition to our model\n",
        "plt.figure(figsize=(5, 5))\n",
        "\n",
        "plt.plot(df_scores.fpr, df_scores.tpr, color='black') #Our model\n",
        "plt.plot([0, 1], [0, 1], color='black', lw=0.7, linestyle='dashed', alpha=0.5) #Dashed line\n",
        "\n",
        "plt.xlim([-0.02, 1.02])\n",
        "plt.ylim([-0.02, 1.02])\n",
        "plt.xlabel('False Positive Rate')\n",
        "plt.ylabel('True Positive Rate')\n",
        "\n",
        "plt.title('ROC curve')\n",
        "\n",
        "# plt.savefig('04_roc_curve.svg')\n",
        "\n",
        "plt.show()"
      ],
      "execution_count": null,
      "outputs": [
        {
          "output_type": "display_data",
          "data": {
            "image/png": "[encoded data removed]",
            "text/plain": [
              "<Figure size 360x360 with 1 Axes>"
            ]
          },
          "metadata": {
            "tags": [],
            "needs_background": "light"
          }
        }
      ]
    },
    {
      "cell_type": "markdown",
      "metadata": {
        "id": "wnjFkHnHA0yp"
      },
      "source": [
        "Scikit-Learn for plotting the ROC curve"
      ]
    },
    {
      "cell_type": "code",
      "metadata": {
        "id": "v61eRrd3A_aR"
      },
      "source": [
        "from sklearn.metrics import roc_curve\n",
        "from sklearn.metrics import auc"
      ],
      "execution_count": null,
      "outputs": []
    },
    {
      "cell_type": "code",
      "metadata": {
        "id": "RaqDZLDghDgD"
      },
      "source": [
        "fpr, tpr, thresholds = roc_curve(y_val, y_pred)"
      ],
      "execution_count": null,
      "outputs": []
    },
    {
      "cell_type": "code",
      "metadata": {
        "colab": {
          "base_uri": "https://localhost:8080/",
          "height": 350
        },
        "id": "xh0M_q-zjO7z",
        "outputId": "73406a43-7479-4fb2-d8e0-343fe5cd09d2"
      },
      "source": [
        "plt.figure(figsize=(5, 5))\n",
        "\n",
        "plt.plot(fpr, tpr, color='black')\n",
        "plt.plot([0, 1], [0, 1], color='black', lw=0.7, linestyle='dashed', alpha=0.5)\n",
        "\n",
        "plt.xlim([-0.02, 1.02])\n",
        "plt.ylim([-0.02, 1.02])\n",
        "plt.xlabel('False Positive Rate')\n",
        "plt.ylabel('True Positive Rate')\n",
        "\n",
        "plt.title('ROC curve')\n",
        "\n",
        "plt.show()"
      ],
      "execution_count": null,
      "outputs": [
        {
          "output_type": "display_data",
          "data": {
            "image/png": "[encoded data removed]",
            "text/plain": [
              "<Figure size 360x360 with 1 Axes>"
            ]
          },
          "metadata": {
            "tags": [],
            "needs_background": "light"
          }
        }
      ]
    },
    {
      "cell_type": "markdown",
      "metadata": {
        "id": "rTbi2LL1jo3L"
      },
      "source": [
        "AUC: Area under the ROC curve"
      ]
    },
    {
      "cell_type": "code",
      "metadata": {
        "id": "8ymD9DYcjptH"
      },
      "source": [
        "df_scores_small = tpr_fpr_dataframe(y_val, y_pred_small) #Small model"
      ],
      "execution_count": null,
      "outputs": []
    },
    {
      "cell_type": "code",
      "metadata": {
        "colab": {
          "base_uri": "https://localhost:8080/"
        },
        "id": "JDvihyPblmIT",
        "outputId": "4ced6c94-a8f3-42a6-8b71-9c926bd9dc3f"
      },
      "source": [
        "auc(df_scores.fpr, df_scores.tpr)"
      ],
      "execution_count": null,
      "outputs": [
        {
          "output_type": "execute_result",
          "data": {
            "text/plain": [
              "0.8359001084215382"
            ]
          },
          "metadata": {
            "tags": []
          },
          "execution_count": 101
        }
      ]
    },
    {
      "cell_type": "code",
      "metadata": {
        "colab": {
          "base_uri": "https://localhost:8080/"
        },
        "id": "aAp8RmLxmPSg",
        "outputId": "66d99e5e-b5b4-4211-a3af-df1b3af473e2"
      },
      "source": [
        "auc(df_scores_small.fpr, df_scores_small.tpr)"
      ],
      "execution_count": null,
      "outputs": [
        {
          "output_type": "execute_result",
          "data": {
            "text/plain": [
              "0.8125475467380692"
            ]
          },
          "metadata": {
            "tags": []
          },
          "execution_count": 102
        }
      ]
    },
    {
      "cell_type": "markdown",
      "metadata": {
        "id": "UHp15ye3mkQG"
      },
      "source": [
        "Comparing multiple models with ROC curves"
      ]
    },
    {
      "cell_type": "code",
      "metadata": {
        "colab": {
          "base_uri": "https://localhost:8080/",
          "height": 350
        },
        "id": "FB593ZNvmlOt",
        "outputId": "2e9e809c-0382-410a-b049-f15291f8ccc8"
      },
      "source": [
        "fpr_large, tpr_large, _ = roc_curve(y_val, y_pred) #Larger model is better\n",
        "fpr_small, tpr_small, _ = roc_curve(y_val, y_pred_small)\n",
        "\n",
        "plt.figure(figsize=(5, 5))\n",
        "\n",
        "plt.plot(fpr_large, tpr_large, color='black', linestyle='solid', label='Large')\n",
        "plt.plot(fpr_small, tpr_small, color='black', linestyle='dashed', label='Small')\n",
        "plt.plot([0, 1], [0, 1], color='black', lw=0.7, linestyle='dashed', alpha=0.5)\n",
        "\n",
        "plt.xlim([-0.02, 1.02])\n",
        "plt.ylim([-0.02, 1.02])\n",
        "plt.xlabel('False Positive Rate')\n",
        "plt.ylabel('True Positive Rate')\n",
        "\n",
        "plt.title('ROC curve')\n",
        "plt.legend(loc='lower right')\n",
        "\n",
        "plt.show()"
      ],
      "execution_count": null,
      "outputs": [
        {
          "output_type": "display_data",
          "data": {
            "image/png": "[encoded data removed]",
            "text/plain": [
              "<Figure size 360x360 with 1 Axes>"
            ]
          },
          "metadata": {
            "tags": [],
            "needs_background": "light"
          }
        }
      ]
    },
    {
      "cell_type": "code",
      "metadata": {
        "id": "Tx6ay5dvpZ6Q"
      },
      "source": [
        "from sklearn.metrics import roc_auc_score #We don't need to compute the ROC curve. We can use ths=is Scikit-learn shortcut to calcualte the ROC AUC Score directly"
      ],
      "execution_count": null,
      "outputs": []
    },
    {
      "cell_type": "code",
      "metadata": {
        "colab": {
          "base_uri": "https://localhost:8080/"
        },
        "id": "XHVmGoMGp9Q-",
        "outputId": "29b9c07d-31da-452c-a90f-677778f6e769"
      },
      "source": [
        "roc_auc_score(y_val, y_pred) #Larger model is better"
      ],
      "execution_count": null,
      "outputs": [
        {
          "output_type": "execute_result",
          "data": {
            "text/plain": [
              "0.8363366398907399"
            ]
          },
          "metadata": {
            "tags": []
          },
          "execution_count": 106
        }
      ]
    },
    {
      "cell_type": "code",
      "metadata": {
        "colab": {
          "base_uri": "https://localhost:8080/"
        },
        "id": "-B1QRxTSqCu8",
        "outputId": "b2cdcc4a-ea2d-4010-a585-ef2d76c3bdff"
      },
      "source": [
        "roc_auc_score(y_val, y_pred_small)"
      ],
      "execution_count": null,
      "outputs": [
        {
          "output_type": "execute_result",
          "data": {
            "text/plain": [
              "0.8129354083179088"
            ]
          },
          "metadata": {
            "tags": []
          },
          "execution_count": 107
        }
      ]
    },
    {
      "cell_type": "markdown",
      "metadata": {
        "id": "cWFUmvHws-MA"
      },
      "source": [
        "ROC-AUC Score via Probability"
      ]
    },
    {
      "cell_type": "code",
      "metadata": {
        "colab": {
          "base_uri": "https://localhost:8080/"
        },
        "id": "x6wkqbU8tDjP",
        "outputId": "c8c5da24-f755-48c8-baec-cff611d1bb6b"
      },
      "source": [
        "neg = y_pred[y_val == 0]\n",
        "pos = y_pred[y_val == 1]\n",
        "\n",
        "np.random.seed(1)\n",
        "neg_choice = np.random.randint(low=0, high=len(neg), size=10000)\n",
        "pos_choice = np.random.randint(low=0, high=len(pos), size=10000)\n",
        "(pos[pos_choice] > neg[neg_choice]).mean()"
      ],
      "execution_count": null,
      "outputs": [
        {
          "output_type": "execute_result",
          "data": {
            "text/plain": [
              "0.8356"
            ]
          },
          "metadata": {
            "tags": []
          },
          "execution_count": 108
        }
      ]
    },
    {
      "cell_type": "markdown",
      "metadata": {
        "id": "ZpagDg4ltPht"
      },
      "source": [
        "**Parameter Tuning**"
      ]
    },
    {
      "cell_type": "markdown",
      "metadata": {
        "id": "aWXumPS0tjOR"
      },
      "source": [
        "K-fold cross-validation"
      ]
    },
    {
      "cell_type": "code",
      "metadata": {
        "id": "Iopw-gBxtNeW"
      },
      "source": [
        "def train(df, y): #(df = training dataset, y = training labels)\n",
        "    cat = df[categorical + numerical].to_dict(orient='records')\n",
        "    \n",
        "    dv = DictVectorizer(sparse=False) #Dict Vectorizer\n",
        "    dv.fit(cat)\n",
        "\n",
        "    X = dv.transform(cat) #X contains data transformed by Dict Vectorizer\n",
        "\n",
        "    model = LogisticRegression(solver='liblinear')\n",
        "    model.fit(X, y)\n",
        "\n",
        "    return dv, model #Return Dict Vectorizer and trained model\n",
        "\n",
        "\n",
        "def predict(df, dv, model): #(df = validation dataset, dv = Dict Vectorizer)\n",
        "    cat = df[categorical + numerical].to_dict(orient='records')\n",
        "    \n",
        "    X = dv.transform(cat)\n",
        "\n",
        "    y_pred = model.predict_proba(X)[:, 1]\n",
        "\n",
        "    return y_pred"
      ],
      "execution_count": null,
      "outputs": []
    },
    {
      "cell_type": "code",
      "metadata": {
        "id": "lbckMO06zemA"
      },
      "source": [
        "from sklearn.model_selection import KFold"
      ],
      "execution_count": null,
      "outputs": []
    },
    {
      "cell_type": "code",
      "metadata": {
        "id": "n6P2rOFPzf8Z"
      },
      "source": [
        "kfold = KFold(n_splits=10, shuffle=True, random_state=1) #Split dataset in 10 folds"
      ],
      "execution_count": null,
      "outputs": []
    },
    {
      "cell_type": "code",
      "metadata": {
        "id": "OUw6i6LtzjuH"
      },
      "source": [
        "aucs = []\n",
        "\n",
        "for train_idx, val_idx in kfold.split(df_train_full): #Training dataset is split into 10 folds\n",
        "    df_train = df_train_full.iloc[train_idx] #Training fold is saved in df_train\n",
        "    y_train = df_train.churn.values #Training labels are saved in y_train\n",
        "\n",
        "    df_val = df_train_full.iloc[val_idx] #Validation fold is saved in df_val\n",
        "    y_val = df_val.churn.values #y_val are the validation dataset labels\n",
        "\n",
        "    dv, model = train(df_train, y_train) #Call train() with training data and labels. Dict Vectorizer and trained model are returned\n",
        "    y_pred = predict(df_val, dv, model) #Call predict() with validation data, Dict Vectorizer and model returned by the train() function\n",
        "\n",
        "    rocauc = roc_auc_score(y_val, y_pred) #Calculate ROC-AUC score based on the validation dataset labels and predictions\n",
        "    aucs.append(rocauc) #Append the AUC-ROC score for training and validation folds in the current iteration"
      ],
      "execution_count": null,
      "outputs": []
    },
    {
      "cell_type": "code",
      "metadata": {
        "colab": {
          "base_uri": "https://localhost:8080/"
        },
        "id": "ZAHDUslP40L-",
        "outputId": "c822468a-7749-46e6-9df7-ba7fe7f1efcd"
      },
      "source": [
        "np.array(aucs).round(3)"
      ],
      "execution_count": null,
      "outputs": [
        {
          "output_type": "execute_result",
          "data": {
            "text/plain": [
              "array([0.849, 0.841, 0.859, 0.833, 0.824, 0.842, 0.844, 0.822, 0.845,\n",
              "       0.861])"
            ]
          },
          "metadata": {
            "tags": []
          },
          "execution_count": 115
        }
      ]
    },
    {
      "cell_type": "code",
      "metadata": {
        "colab": {
          "base_uri": "https://localhost:8080/"
        },
        "id": "gJ17fMZ55GAo",
        "outputId": "fd4fd63d-104d-4804-81de-f58f833c3297"
      },
      "source": [
        "print('auc = %0.3f ± %0.3f' % (np.mean(aucs), np.std(aucs))) #Mean and Standard Deviation of ROC-AUC scores"
      ],
      "execution_count": null,
      "outputs": [
        {
          "output_type": "stream",
          "text": [
            "auc = 0.842 ± 0.012\n"
          ],
          "name": "stdout"
        }
      ]
    },
    {
      "cell_type": "markdown",
      "metadata": {
        "id": "m8S5t41n8jBu"
      },
      "source": [
        "**Finding best parameters**"
      ]
    },
    {
      "cell_type": "markdown",
      "metadata": {
        "id": "0Vvpq9gV8x5X"
      },
      "source": [
        "Tuning Regularization (\"C\" parameter)"
      ]
    },
    {
      "cell_type": "code",
      "metadata": {
        "id": "eQPD78hF8mzl"
      },
      "source": [
        "def train(df, y, C=1.0):\n",
        "    cat = df[categorical + numerical].to_dict(orient='records')\n",
        "    \n",
        "    dv = DictVectorizer(sparse=False)\n",
        "    dv.fit(cat)\n",
        "\n",
        "    X = dv.transform(cat)\n",
        "\n",
        "    model = LogisticRegression(solver='liblinear', C=C)\n",
        "    model.fit(X, y)\n",
        "\n",
        "    return dv, model"
      ],
      "execution_count": null,
      "outputs": []
    },
    {
      "cell_type": "code",
      "metadata": {
        "colab": {
          "base_uri": "https://localhost:8080/"
        },
        "id": "VhRq9eZB9MPT",
        "outputId": "1a0f73c6-dc5e-4069-cae6-7b147fc9cb48"
      },
      "source": [
        "#Find best C\n",
        "nfolds = 5\n",
        "kfold = KFold(n_splits=nfolds, shuffle=True, random_state=1)\n",
        "\n",
        "for C in [0.001, 0.01, 0.1, 0.5, 1, 10]:\n",
        "    aucs = []\n",
        "\n",
        "    for train_idx, val_idx in kfold.split(df_train_full):\n",
        "        df_train = df_train_full.iloc[train_idx]\n",
        "        df_val = df_train_full.iloc[val_idx]\n",
        "\n",
        "        y_train = df_train.churn.values\n",
        "        y_val = df_val.churn.values\n",
        "\n",
        "        dv, model = train(df_train, y_train, C=C)\n",
        "        y_pred = predict(df_val, dv, model)\n",
        "        \n",
        "        auc = roc_auc_score(y_val, y_pred)\n",
        "        aucs.append(auc)\n",
        "\n",
        "    print('C=%s, auc = %0.3f ± %0.3f' % (C, np.mean(aucs), np.std(aucs)))"
      ],
      "execution_count": null,
      "outputs": [
        {
          "output_type": "stream",
          "text": [
            "C=0.001, auc = 0.825 ± 0.013\n",
            "C=0.01, auc = 0.839 ± 0.009\n",
            "C=0.1, auc = 0.841 ± 0.008\n",
            "C=0.5, auc = 0.841 ± 0.007\n",
            "C=1, auc = 0.841 ± 0.007\n",
            "C=10, auc = 0.841 ± 0.007\n"
          ],
          "name": "stdout"
        }
      ]
    },
    {
      "cell_type": "code",
      "metadata": {
        "colab": {
          "base_uri": "https://localhost:8080/"
        },
        "id": "C3wqB-8ZAWXR",
        "outputId": "ec639332-0ece-464a-c005-c8a2e60e2f19"
      },
      "source": [
        "#We select C = 0.5 and retrain training + validation dataset so that we can make final predictions on the test dataset\n",
        "y_train = df_train_full.churn.values\n",
        "y_test = df_test.churn.values\n",
        "\n",
        "dv, model = train(df_train_full, y_train, C=0.5)\n",
        "y_pred = predict(df_test, dv, model) #Make predictions based on test dataset\n",
        "\n",
        "auc = roc_auc_score(y_test, y_pred)\n",
        "print('auc = %.3f' % auc)"
      ],
      "execution_count": null,
      "outputs": [
        {
          "output_type": "stream",
          "text": [
            "auc = 0.858\n"
          ],
          "name": "stdout"
        }
      ]
    }
  ]
}